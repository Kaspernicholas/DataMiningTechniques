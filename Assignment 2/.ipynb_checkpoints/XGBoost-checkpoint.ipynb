{
 "cells": [
  {
   "cell_type": "code",
   "execution_count": 1,
   "metadata": {
    "collapsed": true
   },
   "outputs": [],
   "source": [
    "import xgboost as xgb\n",
    "import numpy as np\n",
    "import matplotlib.pyplot as plt\n",
    "from xgboostextension import XGBRanker \n",
    "from xgboost import XGBModel\n",
    "import pandas as pd\n",
    "from sklearn.metrics import confusion_matrix"
   ]
  },
  {
   "cell_type": "code",
   "execution_count": 2,
   "metadata": {},
   "outputs": [
    {
     "name": "stdout",
     "output_type": "stream",
     "text": [
      "/Users/viktorvandervalk\n"
     ]
    }
   ],
   "source": [
    "cd"
   ]
  },
  {
   "cell_type": "code",
   "execution_count": 3,
   "metadata": {},
   "outputs": [
    {
     "name": "stderr",
     "output_type": "stream",
     "text": [
      "/Library/Frameworks/Python.framework/Versions/3.6/lib/python3.6/site-packages/numpy/lib/arraysetops.py:472: FutureWarning: elementwise comparison failed; returning scalar instead, but in the future will perform elementwise comparison\n",
      "  mask |= (ar1 == a)\n"
     ]
    }
   ],
   "source": [
    "DTYPES = {\n",
    "\n",
    "    'srch_id'                    : np.int32,\n",
    "    'visitor_location_country_id': np.int32,\n",
    "    'visitor_hist_starrating'    : np.float32,\n",
    "    'visitor_hist_adr_usd'       : np.float32,\n",
    "    'prop_country_id'            : np.int32,\n",
    "    'prop_id'                    : np.int32,\n",
    "    'prop_starrating'            : np.float32,\n",
    "    'prop_review_score'          : np.float32,\n",
    "    'prop_brand_bool'            : np.bool,\n",
    "    'prop_location_score1'       : np.float32,\n",
    "    'prop_location_score2'       : np.float32,\n",
    "    'prop_log_historical_price'  : np.float32,\n",
    "    'position'                   : np.int32,\n",
    "    'price_usd'                  : np.float32,\n",
    "    'promotion_flag'             : np.bool,\n",
    "    'srch_destination_id'        : np.int32,\n",
    "    'srch_length_of_stay'        : np.float32,\n",
    "    'srch_booking_window'        : np.float32,\n",
    "    'srch_adults_count'          : np.float32,\n",
    "    'srch_children_count'        : np.float32,\n",
    "    'srch_room_count'            : np.float32,\n",
    "    'srch_saturday_night_bool'   : np.bool,\n",
    "    'srch_query_affinity_score'  : np.float32,\n",
    "    'random_bool'                : np.bool,\n",
    "    'click_bool'                 : np.bool,\n",
    "    'booking_bool'               : np.bool,\n",
    "    'competitors'                : np.float32,\n",
    "    'prop_reviewed'              : np.bool,\n",
    "    'avg_orig_dest_dist'         : np.float32,\n",
    "    'std_orig_dest_dist'         : np.float32,\n",
    "    'domestic_travel'            : np.bool,\n",
    "}\n",
    "\n",
    "FILE = './Desktop/Vakken/DataMiningTechniques/training_final.csv'\n",
    "\n",
    "data = pd.read_csv(FILE, index_col=0, dtype=DTYPES)\n",
    "\n"
   ]
  },
  {
   "cell_type": "code",
   "execution_count": 8,
   "metadata": {},
   "outputs": [
    {
     "data": {
      "text/html": [
       "<div>\n",
       "<style scoped>\n",
       "    .dataframe tbody tr th:only-of-type {\n",
       "        vertical-align: middle;\n",
       "    }\n",
       "\n",
       "    .dataframe tbody tr th {\n",
       "        vertical-align: top;\n",
       "    }\n",
       "\n",
       "    .dataframe thead th {\n",
       "        text-align: right;\n",
       "    }\n",
       "</style>\n",
       "<table border=\"1\" class=\"dataframe\">\n",
       "  <thead>\n",
       "    <tr style=\"text-align: right;\">\n",
       "      <th></th>\n",
       "      <th>Unnamed: 0.1</th>\n",
       "      <th>srch_id</th>\n",
       "      <th>visitor_location_country_id</th>\n",
       "      <th>visitor_hist_starrating</th>\n",
       "      <th>visitor_hist_adr_usd</th>\n",
       "      <th>prop_starrating</th>\n",
       "      <th>prop_review_score</th>\n",
       "      <th>prop_brand_bool</th>\n",
       "      <th>prop_location_score1</th>\n",
       "      <th>prop_location_score2</th>\n",
       "      <th>...</th>\n",
       "      <th>srch_query_affinity_score</th>\n",
       "      <th>random_bool</th>\n",
       "      <th>click_bool</th>\n",
       "      <th>booking_bool</th>\n",
       "      <th>competitors</th>\n",
       "      <th>prop_reviewed</th>\n",
       "      <th>avg_orig_dest_dist</th>\n",
       "      <th>std_orig_dest_dist</th>\n",
       "      <th>domestic_travel</th>\n",
       "      <th>global_prop_id</th>\n",
       "    </tr>\n",
       "  </thead>\n",
       "  <tbody>\n",
       "    <tr>\n",
       "      <th>0</th>\n",
       "      <td>0</td>\n",
       "      <td>1</td>\n",
       "      <td>187</td>\n",
       "      <td>NaN</td>\n",
       "      <td>NaN</td>\n",
       "      <td>-0.171762</td>\n",
       "      <td>-0.256862</td>\n",
       "      <td>True</td>\n",
       "      <td>-0.027817</td>\n",
       "      <td>-0.614763</td>\n",
       "      <td>...</td>\n",
       "      <td>0.0</td>\n",
       "      <td>True</td>\n",
       "      <td>False</td>\n",
       "      <td>False</td>\n",
       "      <td>0.0</td>\n",
       "      <td>True</td>\n",
       "      <td>-0.120946</td>\n",
       "      <td>-0.481842</td>\n",
       "      <td>False</td>\n",
       "      <td>893_219</td>\n",
       "    </tr>\n",
       "    <tr>\n",
       "      <th>1</th>\n",
       "      <td>1</td>\n",
       "      <td>1</td>\n",
       "      <td>187</td>\n",
       "      <td>NaN</td>\n",
       "      <td>NaN</td>\n",
       "      <td>0.779692</td>\n",
       "      <td>0.215022</td>\n",
       "      <td>True</td>\n",
       "      <td>-0.439310</td>\n",
       "      <td>-0.819956</td>\n",
       "      <td>...</td>\n",
       "      <td>0.0</td>\n",
       "      <td>True</td>\n",
       "      <td>False</td>\n",
       "      <td>False</td>\n",
       "      <td>0.0</td>\n",
       "      <td>True</td>\n",
       "      <td>-0.120946</td>\n",
       "      <td>-0.481842</td>\n",
       "      <td>False</td>\n",
       "      <td>10404_219</td>\n",
       "    </tr>\n",
       "    <tr>\n",
       "      <th>2</th>\n",
       "      <td>2</td>\n",
       "      <td>1</td>\n",
       "      <td>187</td>\n",
       "      <td>NaN</td>\n",
       "      <td>NaN</td>\n",
       "      <td>-0.171762</td>\n",
       "      <td>0.686906</td>\n",
       "      <td>True</td>\n",
       "      <td>-0.439310</td>\n",
       "      <td>-0.751795</td>\n",
       "      <td>...</td>\n",
       "      <td>0.0</td>\n",
       "      <td>True</td>\n",
       "      <td>False</td>\n",
       "      <td>False</td>\n",
       "      <td>0.0</td>\n",
       "      <td>True</td>\n",
       "      <td>-0.120946</td>\n",
       "      <td>-0.481842</td>\n",
       "      <td>False</td>\n",
       "      <td>21315_219</td>\n",
       "    </tr>\n",
       "    <tr>\n",
       "      <th>3</th>\n",
       "      <td>3</td>\n",
       "      <td>1</td>\n",
       "      <td>187</td>\n",
       "      <td>NaN</td>\n",
       "      <td>NaN</td>\n",
       "      <td>-1.123215</td>\n",
       "      <td>0.215022</td>\n",
       "      <td>True</td>\n",
       "      <td>-0.027817</td>\n",
       "      <td>-0.836996</td>\n",
       "      <td>...</td>\n",
       "      <td>0.0</td>\n",
       "      <td>True</td>\n",
       "      <td>False</td>\n",
       "      <td>False</td>\n",
       "      <td>-1.0</td>\n",
       "      <td>True</td>\n",
       "      <td>-0.120946</td>\n",
       "      <td>-0.481842</td>\n",
       "      <td>False</td>\n",
       "      <td>27348_219</td>\n",
       "    </tr>\n",
       "    <tr>\n",
       "      <th>4</th>\n",
       "      <td>4</td>\n",
       "      <td>1</td>\n",
       "      <td>187</td>\n",
       "      <td>NaN</td>\n",
       "      <td>NaN</td>\n",
       "      <td>0.779692</td>\n",
       "      <td>-0.256862</td>\n",
       "      <td>True</td>\n",
       "      <td>-0.151918</td>\n",
       "      <td>-0.044625</td>\n",
       "      <td>...</td>\n",
       "      <td>0.0</td>\n",
       "      <td>True</td>\n",
       "      <td>False</td>\n",
       "      <td>False</td>\n",
       "      <td>0.0</td>\n",
       "      <td>True</td>\n",
       "      <td>-0.120946</td>\n",
       "      <td>-0.481842</td>\n",
       "      <td>False</td>\n",
       "      <td>29604_219</td>\n",
       "    </tr>\n",
       "  </tbody>\n",
       "</table>\n",
       "<p>5 rows × 31 columns</p>\n",
       "</div>"
      ],
      "text/plain": [
       "   Unnamed: 0.1  srch_id  visitor_location_country_id  \\\n",
       "0             0        1                          187   \n",
       "1             1        1                          187   \n",
       "2             2        1                          187   \n",
       "3             3        1                          187   \n",
       "4             4        1                          187   \n",
       "\n",
       "   visitor_hist_starrating  visitor_hist_adr_usd  prop_starrating  \\\n",
       "0                      NaN                   NaN        -0.171762   \n",
       "1                      NaN                   NaN         0.779692   \n",
       "2                      NaN                   NaN        -0.171762   \n",
       "3                      NaN                   NaN        -1.123215   \n",
       "4                      NaN                   NaN         0.779692   \n",
       "\n",
       "   prop_review_score  prop_brand_bool  prop_location_score1  \\\n",
       "0          -0.256862             True             -0.027817   \n",
       "1           0.215022             True             -0.439310   \n",
       "2           0.686906             True             -0.439310   \n",
       "3           0.215022             True             -0.027817   \n",
       "4          -0.256862             True             -0.151918   \n",
       "\n",
       "   prop_location_score2       ...        srch_query_affinity_score  \\\n",
       "0             -0.614763       ...                              0.0   \n",
       "1             -0.819956       ...                              0.0   \n",
       "2             -0.751795       ...                              0.0   \n",
       "3             -0.836996       ...                              0.0   \n",
       "4             -0.044625       ...                              0.0   \n",
       "\n",
       "   random_bool  click_bool  booking_bool  competitors  prop_reviewed  \\\n",
       "0         True       False         False          0.0           True   \n",
       "1         True       False         False          0.0           True   \n",
       "2         True       False         False          0.0           True   \n",
       "3         True       False         False         -1.0           True   \n",
       "4         True       False         False          0.0           True   \n",
       "\n",
       "   avg_orig_dest_dist  std_orig_dest_dist  domestic_travel  global_prop_id  \n",
       "0           -0.120946           -0.481842            False         893_219  \n",
       "1           -0.120946           -0.481842            False       10404_219  \n",
       "2           -0.120946           -0.481842            False       21315_219  \n",
       "3           -0.120946           -0.481842            False       27348_219  \n",
       "4           -0.120946           -0.481842            False       29604_219  \n",
       "\n",
       "[5 rows x 31 columns]"
      ]
     },
     "execution_count": 8,
     "metadata": {},
     "output_type": "execute_result"
    }
   ],
   "source": [
    "data.head()"
   ]
  },
  {
   "cell_type": "code",
   "execution_count": null,
   "metadata": {
    "collapsed": true
   },
   "outputs": [],
   "source": []
  },
  {
   "cell_type": "code",
   "execution_count": 4,
   "metadata": {},
   "outputs": [
    {
     "name": "stderr",
     "output_type": "stream",
     "text": [
      "/Library/Frameworks/Python.framework/Versions/3.6/lib/python3.6/site-packages/pandas/core/indexing.py:357: SettingWithCopyWarning: \n",
      "A value is trying to be set on a copy of a slice from a DataFrame.\n",
      "Try using .loc[row_indexer,col_indexer] = value instead\n",
      "\n",
      "See the caveats in the documentation: http://pandas.pydata.org/pandas-docs/stable/indexing.html#indexing-view-versus-copy\n",
      "  self.obj[key] = _infer_fill_value(value)\n",
      "/Library/Frameworks/Python.framework/Versions/3.6/lib/python3.6/site-packages/pandas/core/indexing.py:537: SettingWithCopyWarning: \n",
      "A value is trying to be set on a copy of a slice from a DataFrame.\n",
      "Try using .loc[row_indexer,col_indexer] = value instead\n",
      "\n",
      "See the caveats in the documentation: http://pandas.pydata.org/pandas-docs/stable/indexing.html#indexing-view-versus-copy\n",
      "  self.obj[item] = s\n"
     ]
    }
   ],
   "source": [
    "TestSize = 300000\n",
    "FilterStep = 7\n",
    "data_try_train = data.iloc[:TestSize]\n",
    "data_train_filtered = data_try_train\n",
    "data_train_filtered.loc[:,'relevance'] = 4*data_train_filtered.loc[:,'booking_bool'] + 1*data_train_filtered.loc[:,'click_bool']\n",
    "data_train_filtered.loc[:,\"ideal_rank\"] = data_train_filtered.groupby(\"srch_id\")[\"relevance\"].rank(method = 'first',ascending=False)\n",
    "data_train_cut = data_train_filtered[data_train_filtered['prop_reviewed'] == False]\n",
    "data_train_filtered = data_train_filtered[data_train_filtered['ideal_rank'] < FilterStep]\n",
    "data_train_cut = data_train_cut[data_train_cut['ideal_rank'] < FilterStep]\n",
    "\n",
    "\n",
    "X_train = data_try_train[['prop_starrating',\n",
    "       'prop_review_score', 'prop_brand_bool', 'prop_location_score1','prop_location_score2', 'prop_log_historical_price',\n",
    "       'price_usd', 'promotion_flag',\n",
    "       'srch_length_of_stay', 'srch_booking_window', 'srch_adults_count',\n",
    "       'srch_children_count', 'srch_room_count', 'srch_saturday_night_bool',\n",
    "       'srch_query_affinity_score','random_bool', 'competitors', 'avg_orig_dest_dist',\n",
    "       'std_orig_dest_dist', 'domestic_travel']]\n",
    "\n",
    "X_train_filtered = data_train_filtered[['prop_starrating',\n",
    "       'prop_review_score', 'prop_brand_bool', 'prop_location_score1','prop_location_score2', 'prop_log_historical_price',\n",
    "       'price_usd', 'promotion_flag',\n",
    "       'srch_length_of_stay', 'srch_booking_window', 'srch_adults_count',\n",
    "       'srch_children_count', 'srch_room_count', 'srch_saturday_night_bool',\n",
    "       'srch_query_affinity_score','random_bool', 'competitors', 'avg_orig_dest_dist',\n",
    "       'std_orig_dest_dist', 'domestic_travel']]\n",
    "\n",
    "\n",
    "Y_data_train = data_try_train[['srch_id','click_bool','booking_bool']]\n",
    "Y_data_train_filtered = data_train_filtered[['srch_id','click_bool','booking_bool']]\n",
    "\n",
    "\n",
    "\n",
    "data_try_test = data.iloc[TestSize:2*TestSize]\n",
    "\n",
    "X_test = data_try_test[['prop_starrating',\n",
    "       'prop_review_score', 'prop_brand_bool', 'prop_location_score1','prop_location_score2', 'prop_log_historical_price',\n",
    "       'price_usd', 'promotion_flag',\n",
    "       'srch_length_of_stay', 'srch_booking_window', 'srch_adults_count',\n",
    "       'srch_children_count', 'srch_room_count', 'srch_saturday_night_bool',\n",
    "       'srch_query_affinity_score','random_bool', 'competitors', 'avg_orig_dest_dist',\n",
    "       'std_orig_dest_dist', 'domestic_travel']]\n",
    "\n",
    "Y_data_test = data_try_test[['srch_id','click_bool','booking_bool']]\n",
    "\n",
    "Y_data_test.loc[:,'relevance'] = 4*Y_data_test.loc[:,'booking_bool'] + 1*Y_data_test.loc[:,'click_bool']\n",
    "Y_data_test.loc[:,\"ideal_rank\"] = Y_data_test.groupby(\"srch_id\")[\"relevance\"].rank(method = 'first',ascending=False)\n",
    "Y_data_test.loc[:,'ideal_gain'] = Y_data_test['relevance']/np.log2(Y_data_test['ideal_rank']+1)\n",
    "\n",
    "\n"
   ]
  },
  {
   "cell_type": "code",
   "execution_count": 12,
   "metadata": {},
   "outputs": [
    {
     "name": "stderr",
     "output_type": "stream",
     "text": [
      "/Library/Frameworks/Python.framework/Versions/3.6/lib/python3.6/site-packages/pandas/core/indexing.py:537: SettingWithCopyWarning: \n",
      "A value is trying to be set on a copy of a slice from a DataFrame.\n",
      "Try using .loc[row_indexer,col_indexer] = value instead\n",
      "\n",
      "See the caveats in the documentation: http://pandas.pydata.org/pandas-docs/stable/indexing.html#indexing-view-versus-copy\n",
      "  self.obj[item] = s\n"
     ]
    },
    {
     "name": "stdout",
     "output_type": "stream",
     "text": [
      "0.43612789204857677 0.4412561202656226 0.4393399833997339\n"
     ]
    }
   ],
   "source": [
    "from sklearn import linear_model\n",
    "\n",
    "tuning = []\n",
    "clf_clicked = linear_model.SGDClassifier(loss = 'log',tol=0.00001, penalty='elasticnet', max_iter=1000, learning_rate='optimal', l1_ratio = 0.5, alpha= 0.001,n_jobs=-1)\n",
    "clf_booked = linear_model.SGDClassifier(loss = 'log',tol=0.00001, penalty='elasticnet', max_iter=1000, learning_rate='optimal', l1_ratio = 0.5,alpha=0.001, n_jobs=-1)\n",
    "\n",
    "\n",
    "# Fit the classifier to the training set\n",
    "clf_clicked.fit(X_train_filtered.values, Y_data_train_filtered['click_bool'].values)\n",
    "clf_booked.fit(X_train_filtered.values, Y_data_train_filtered['booking_bool'].values)\n",
    "\n",
    "Y_data_test.loc[:,'click_predict'] = clf_clicked.predict(X_test.values)\n",
    "Y_data_test.loc[:,'clicked_proba'] = clf_clicked.predict_proba(X_test.values)[:,1]\n",
    "\n",
    "Y_data_test.loc[:,'book_predict'] = clf_booked.predict(X_test.values)\n",
    "Y_data_test.loc[:,'booked_proba'] = clf_booked.predict_proba(X_test.values)[:,1]\n",
    "\n",
    "Y_data_test.loc[:,'combi_proba'] = Y_data_test.loc[:,'booked_proba'] + Y_data_test.loc[:,'clicked_proba']\n",
    "\n",
    "\n",
    "Y_data_test.loc[:,\"booked_rank\"] = Y_data_test.groupby(\"srch_id\")[\"booked_proba\"].rank(method = 'first',ascending=False)\n",
    "Y_data_test.loc[:,\"clicked_rank\"] = Y_data_test.groupby(\"srch_id\")[\"clicked_proba\"].rank(method = 'first',ascending=False)\n",
    "Y_data_test.loc[:,\"combi_rank\"] = Y_data_test.groupby(\"srch_id\")[\"combi_proba\"].rank(method = 'first',ascending=False)\n",
    "\n",
    "Y_data_test.loc[:,'booked_gain'] = Y_data_test['relevance']/np.log2(Y_data_test['booked_rank']+1)\n",
    "Y_data_test.loc[:,'clicked_gain'] = Y_data_test['relevance']/np.log2(Y_data_test['clicked_rank']+1)\n",
    "Y_data_test.loc[:,'combi_gain'] = Y_data_test['relevance']/np.log2(Y_data_test['combi_rank']+1)\n",
    "\n",
    "\n",
    "con_clicked = confusion_matrix(Y_data_test['click_bool'], Y_data_test['click_predict'])\n",
    "TruePos_clicked = con_clicked[1,1]/con_clicked[1].sum()\n",
    "\n",
    "con_booked = confusion_matrix(Y_data_test['booking_bool'], Y_data_test['book_predict'])\n",
    "TruePos_booked = con_booked[1,1]/con_booked[1].sum()\n",
    "\n",
    "booked_nDCGp = Y_data_test['booked_gain'].sum()/Y_data_test['ideal_gain'].sum()\n",
    "clicked_nDCGp = Y_data_test['clicked_gain'].sum()/Y_data_test['ideal_gain'].sum()\n",
    "combi_nDCGp = Y_data_test['combi_gain'].sum()/Y_data_test['ideal_gain'].sum()\n",
    "print(booked_nDCGp, clicked_nDCGp, combi_nDCGp)"
   ]
  },
  {
   "cell_type": "code",
   "execution_count": 18,
   "metadata": {},
   "outputs": [
    {
     "data": {
      "text/plain": [
       "'0.19.1'"
      ]
     },
     "execution_count": 18,
     "metadata": {},
     "output_type": "execute_result"
    }
   ],
   "source": [
    "import sklearn\n",
    "sklearn.__version__"
   ]
  },
  {
   "cell_type": "code",
   "execution_count": 23,
   "metadata": {},
   "outputs": [
    {
     "data": {
      "text/plain": [
       "0.4358776028837137"
      ]
     },
     "execution_count": 23,
     "metadata": {},
     "output_type": "execute_result"
    }
   ],
   "source": [
    "print(booked_nDCGp, clicked_nDCGp, combi_nDCGp)"
   ]
  },
  {
   "cell_type": "code",
   "execution_count": 16,
   "metadata": {},
   "outputs": [
    {
     "name": "stdout",
     "output_type": "stream",
     "text": [
      "0.4437269647003759 0.4164429908905808 0.44108399056709086\n"
     ]
    }
   ],
   "source": [
    "print(booked_nDCGp, clicked_nDCGp, combi_nDCGp)"
   ]
  },
  {
   "cell_type": "code",
   "execution_count": 5,
   "metadata": {},
   "outputs": [
    {
     "name": "stdout",
     "output_type": "stream",
     "text": [
      "-------NewRound------\n"
     ]
    },
    {
     "name": "stderr",
     "output_type": "stream",
     "text": [
      "/Library/Frameworks/Python.framework/Versions/3.6/lib/python3.6/site-packages/sklearn/preprocessing/label.py:151: DeprecationWarning: The truth value of an empty array is ambiguous. Returning False, but in future this will result in an error. Use `array.size > 0` to check that an array is not empty.\n",
      "  if diff:\n",
      "/Library/Frameworks/Python.framework/Versions/3.6/lib/python3.6/site-packages/pandas/core/indexing.py:357: SettingWithCopyWarning: \n",
      "A value is trying to be set on a copy of a slice from a DataFrame.\n",
      "Try using .loc[row_indexer,col_indexer] = value instead\n",
      "\n",
      "See the caveats in the documentation: http://pandas.pydata.org/pandas-docs/stable/indexing.html#indexing-view-versus-copy\n",
      "  self.obj[key] = _infer_fill_value(value)\n",
      "/Library/Frameworks/Python.framework/Versions/3.6/lib/python3.6/site-packages/pandas/core/indexing.py:537: SettingWithCopyWarning: \n",
      "A value is trying to be set on a copy of a slice from a DataFrame.\n",
      "Try using .loc[row_indexer,col_indexer] = value instead\n",
      "\n",
      "See the caveats in the documentation: http://pandas.pydata.org/pandas-docs/stable/indexing.html#indexing-view-versus-copy\n",
      "  self.obj[item] = s\n",
      "/Library/Frameworks/Python.framework/Versions/3.6/lib/python3.6/site-packages/sklearn/preprocessing/label.py:151: DeprecationWarning: The truth value of an empty array is ambiguous. Returning False, but in future this will result in an error. Use `array.size > 0` to check that an array is not empty.\n",
      "  if diff:\n"
     ]
    },
    {
     "name": "stdout",
     "output_type": "stream",
     "text": [
      "   combi_nDCGp  combi2_nDCGp  random_nDCGp  click_nDCGp  book_nDCGp  \\\n",
      "0     0.437963      0.503469      0.348091     0.498367    0.497094   \n",
      "\n",
      "   TruePos_clicked  TruePos_booked  n_estimators  eta  min_child_weight  \\\n",
      "0         0.523923        0.668667           200  0.1                 1   \n",
      "\n",
      "   max_depth  gamma  \n",
      "0          3      1  \n"
     ]
    }
   ],
   "source": [
    "tuning = []\n",
    "for n_estimators in [200]:\n",
    "    for eta in [0.1]:\n",
    "        for min_child_weight in [1]:\n",
    "            for max_depth in [3]:\n",
    "                for gamma in [1]:\n",
    "                    print('-------NewRound------')\n",
    "                    xg_cl_clicked = xgb.XGBClassifier(n_estimators=n_estimators,eta=eta, min_child_weight=min_child_weight, max_depth=max_depth, gamma=gamma, subsample=0.1, objective='rank:pairwise', eval_metric = \"logloss\",seed=123)\n",
    "                    xg_cl_booked = xgb.XGBClassifier(n_estimators=n_estimators,eta=eta, min_child_weight=2, max_depth=max_depth, gamma=gamma, subsample=0.1, objective='rank:pairwise',eval_metric = \"logloss\", seed=123)\n",
    "\n",
    "                    \n",
    "                    # Fit the classifier to the training set\n",
    "                    xg_cl_clicked.fit(X_train_filtered.values, Y_data_train_filtered['click_bool'].values)\n",
    "                    xg_cl_booked.fit(X_train_filtered.values, Y_data_train_filtered['booking_bool'].values)\n",
    "\n",
    "                    Y_data_test.loc[:,'click_predict'] = xg_cl_clicked.predict(X_test.values)\n",
    "                    Y_data_test.loc[:,'click_proba'] = xg_cl_clicked.predict_proba(X_test.values)[:,1]\n",
    "\n",
    "                    Y_data_test.loc[:,'book_predict'] = xg_cl_booked.predict(X_test.values)\n",
    "                    Y_data_test.loc[:,'booked_proba'] = xg_cl_booked.predict_proba(X_test.values)[:,1]\n",
    "                    \n",
    "                    Y_data_test.loc[:,'combi_proba'] = Y_data_test.loc[:,'booked_proba'] * Y_data_test.loc[:,'click_proba'] \n",
    "                    Y_data_test.loc[:,'combi2_proba'] = Y_data_test.loc[:,'booked_proba'] + Y_data_test.loc[:,'click_proba'] \n",
    "                    Y_data_test.loc[:, \"random_score\"] = np.random.random(len(Y_data_test[\"combi_proba\"]))\n",
    "\n",
    "                    Y_data_test.loc[:,\"click_rank\"] = Y_data_test.groupby(\"srch_id\")[\"booked_proba\"].rank(method = 'first',ascending=False)\n",
    "                    Y_data_test.loc[:,\"book_rank\"] = Y_data_test.groupby(\"srch_id\")[\"click_proba\"].rank(method = 'first',ascending=False)\n",
    "                    Y_data_test.loc[:,\"combi_rank\"] = Y_data_test.groupby(\"srch_id\")[\"combi_proba\"].rank(method = 'first',ascending=False)\n",
    "                    Y_data_test.loc[:,\"combi2_rank\"] = Y_data_test.groupby(\"srch_id\")[\"combi2_proba\"].rank(method = 'first',ascending=False)\n",
    "                    Y_data_test.loc[:, \"random_rank\"] = Y_data_test.groupby(\"srch_id\")[\"random_score\"].rank(method = 'first',ascending=False)\n",
    "\n",
    "                    Y_data_test.loc[:,'click_gain'] = Y_data_test['relevance']/np.log2(Y_data_test['click_rank']+1)\n",
    "                    Y_data_test.loc[:,'book_gain'] = Y_data_test['relevance']/np.log2(Y_data_test['book_rank']+1)\n",
    "                    Y_data_test.loc[:,'combi_gain'] = Y_data_test['relevance']/np.log2(Y_data_test['combi_rank']+1)\n",
    "                    Y_data_test.loc[:,'combi2_gain'] = Y_data_test['relevance']/np.log2(Y_data_test['combi2_rank']+1)\n",
    "                    Y_data_test.loc[:,'random_gain'] = Y_data_test['relevance']/np.log2(Y_data_test['random_rank']+1)\n",
    "                \n",
    "\n",
    "                    con_clicked = confusion_matrix(Y_data_test['click_bool'], Y_data_test['click_predict'])\n",
    "                    TruePos_clicked = con_clicked[1,1]/con_clicked[1].sum()\n",
    "\n",
    "                    con_booked = confusion_matrix(Y_data_test['booking_bool'], Y_data_test['book_predict'])\n",
    "                    TruePos_booked = con_booked[1,1]/con_booked[1].sum()\n",
    "                    \n",
    "                    click_nDCGp = Y_data_test['click_gain'].sum()/Y_data_test['ideal_gain'].sum()\n",
    "                    book_nDCGp = Y_data_test['book_gain'].sum()/Y_data_test['ideal_gain'].sum()\n",
    "                    combi_nDCGp = Y_data_test['combi_gain'].sum()/Y_data_test['ideal_gain'].sum()\n",
    "                    combi2_nDCGp = Y_data_test['combi2_gain'].sum()/Y_data_test['ideal_gain'].sum()\n",
    "                    random_nDCGp = Y_data_test['random_gain'].sum()/Y_data_test['ideal_gain'].sum()\n",
    "                    \n",
    "                    tuning.append([combi_nDCGp, combi2_nDCGp, random_nDCGp, click_nDCGp, book_nDCGp, TruePos_clicked, TruePos_booked, n_estimators, eta, min_child_weight, max_depth, gamma])\n",
    "scores = pd.DataFrame(tuning, columns = ['combi_nDCGp','combi2_nDCGp','random_nDCGp','click_nDCGp','book_nDCGp','TruePos_clicked', 'TruePos_booked', 'n_estimators', 'eta', 'min_child_weight', 'max_depth', 'gamma'])\n",
    "print(scores)\n",
    "#scores.to_csv('Hyperparameter Tuning')"
   ]
  },
  {
   "cell_type": "code",
   "execution_count": 52,
   "metadata": {},
   "outputs": [
    {
     "data": {
      "image/png": "[encoded data removed]",
      "text/plain": [
       "<matplotlib.figure.Figure at 0x1196bd358>"
      ]
     },
     "metadata": {},
     "output_type": "display_data"
    }
   ],
   "source": [
    "labels = np.array(['prop_starrating',\n",
    "       'prop_review_score', 'prop_brand_bool', 'prop_location_score1','prop_location_score2', 'prop_log_historical_price',\n",
    "       'price_usd', 'promotion_flag',\n",
    "       'srch_length_of_stay', 'srch_booking_window', 'srch_adults_count',\n",
    "       'srch_children_count', 'srch_room_count', 'srch_saturday_night_bool',\n",
    "       'srch_query_affinity_score','random_bool', 'competitors', 'avg_orig_dest_dist',\n",
    "       'std_orig_dest_dist', 'domestic_travel'])\n",
    "xgb.plot_importance(xg_cl_clicked)\n",
    "plt.title('Feature Importances Click Model')\n",
    "plt.ylabel('Features',fontsize=12)\n",
    "plt.xlabel('F-score',fontsize=12)\n",
    "plt.yticks(np.arange(len(labels)), labels[[19,12,2,13,16,10,11,15,7,14,8,1,0,9,18,5,17,3,6,4]], fontsize=11)\n",
    "plt.tight_layout() \n",
    "plt.savefig('Feature_Importance_Click', format='eps', dpi=1000, figsize=[4,10])\n",
    "plt.show()"
   ]
  },
  {
   "cell_type": "code",
   "execution_count": 26,
   "metadata": {},
   "outputs": [
    {
     "data": {
      "text/plain": [
       "array(['prop_location_score2', 'prop_location_score1'], dtype='<U25')"
      ]
     },
     "execution_count": 26,
     "metadata": {},
     "output_type": "execute_result"
    }
   ],
   "source": [
    "labels[[4,3]]"
   ]
  },
  {
   "cell_type": "code",
   "execution_count": 53,
   "metadata": {},
   "outputs": [
    {
     "data": {
      "image/png": "[encoded data removed]",
      "text/plain": [
       "<matplotlib.figure.Figure at 0x1196b6e48>"
      ]
     },
     "metadata": {},
     "output_type": "display_data"
    }
   ],
   "source": [
    "labels = np.array(['prop_starrating',\n",
    "       'prop_review_score', 'prop_brand_bool', 'prop_location_score1','prop_location_score2', 'prop_log_historical_price',\n",
    "       'price_usd', 'promotion_flag',\n",
    "       'srch_length_of_stay', 'srch_booking_window', 'srch_adults_count',\n",
    "       'srch_children_count', 'srch_room_count', 'srch_saturday_night_bool',\n",
    "       'srch_query_affinity_score','random_bool', 'competitors', 'avg_orig_dest_dist',\n",
    "       'std_orig_dest_dist', 'domestic_travel'])\n",
    "\n",
    "xgb.plot_importance(xg_cl_booked)\n",
    "plt.title('Feature Importances Book Model')\n",
    "plt.ylabel('Features',fontsize=12)\n",
    "plt.xlabel('F-score',fontsize=12)\n",
    "plt.yticks(np.arange(len(labels)), labels[[19,13,16,2,12,11,10,7,14,8,1,0,15,9,18,5,3,17,6,4]], fontsize=11)\n",
    "plt.tight_layout() \n",
    "plt.savefig('Feature_Importance_Book', format='eps', dpi=1000, figsize=[4,10])\n",
    "plt.show()"
   ]
  },
  {
   "cell_type": "code",
   "execution_count": 14,
   "metadata": {},
   "outputs": [
    {
     "data": {
      "text/plain": [
       "array([0.05387454, 0.03911439, 0.00516605, 0.099631  , 0.19409594,\n",
       "       0.09077491, 0.17343174, 0.01623616, 0.03247232, 0.05830258,\n",
       "       0.0095941 , 0.01107011, 0.00516605, 0.00590406, 0.0199262 ,\n",
       "       0.01328413, 0.0095941 , 0.09741697, 0.06199262, 0.00295203],\n",
       "      dtype=float32)"
      ]
     },
     "execution_count": 14,
     "metadata": {},
     "output_type": "execute_result"
    }
   ],
   "source": [
    "xg_cl_clicked.feature_importances_"
   ]
  },
  {
   "cell_type": "code",
   "execution_count": 9,
   "metadata": {},
   "outputs": [
    {
     "data": {
      "image/png": "[encoded data removed]",
      "text/plain": [
       "<matplotlib.figure.Figure at 0x116a04c50>"
      ]
     },
     "metadata": {},
     "output_type": "display_data"
    }
   ],
   "source": [
    "xgb.plot_importance(xg_cl_booked)\n",
    "plt.show()"
   ]
  },
  {
   "cell_type": "code",
   "execution_count": 93,
   "metadata": {},
   "outputs": [
    {
     "data": {
      "text/plain": [
       "172.00093514461872"
      ]
     },
     "execution_count": 93,
     "metadata": {},
     "output_type": "execute_result"
    }
   ],
   "source": [
    "Y_data_test['gain'].sum()"
   ]
  },
  {
   "cell_type": "code",
   "execution_count": 16,
   "metadata": {},
   "outputs": [
    {
     "name": "stdout",
     "output_type": "stream",
     "text": [
      "/Users/viktorvandervalk\n"
     ]
    }
   ],
   "source": [
    "cd"
   ]
  },
  {
   "cell_type": "code",
   "execution_count": 17,
   "metadata": {},
   "outputs": [
    {
     "name": "stdout",
     "output_type": "stream",
     "text": [
      "/Users/viktorvandervalk/Desktop/Vakken/DataMiningTechniques\n"
     ]
    }
   ],
   "source": [
    "cd Desktop/Vakken/DataMiningTechniques/"
   ]
  },
  {
   "cell_type": "code",
   "execution_count": 18,
   "metadata": {
    "collapsed": true
   },
   "outputs": [],
   "source": [
    "y = pd.read_csv('Y_data_test.csv')"
   ]
  },
  {
   "cell_type": "code",
   "execution_count": 26,
   "metadata": {},
   "outputs": [
    {
     "data": {
      "text/plain": [
       "Index(['Unnamed: 0', 'srch_id', 'click_bool', 'booking_bool', 'relevance',\n",
       "       'ideal_rank', 'ideal_gain', 'xg_click_predict', 'xg_click_proba',\n",
       "       'xg_booked_predict', 'xg_booked_proba', 'xg_combi_proba',\n",
       "       'lm_click_predict', 'lm_click_proba', 'lm_booked_predict',\n",
       "       'lm_booked_proba', 'lm_combi_proba', 'all_booked_proba',\n",
       "       'all_click_proba', 'all_combi_proba', 'random_score', 'xg_click_rank',\n",
       "       'xg_booked_rank', 'xg_combi_rank', 'random_rank', 'lm_booked_rank',\n",
       "       'lm_click_rank', 'lm_combi_rank', 'all_combi_rank', 'all_booked_rank',\n",
       "       'all_click_rank', 'xg_click_gain', 'xg_booked_gain', 'xg_combi_gain',\n",
       "       'lm_click_gain', 'lm_booked_gain', 'lm_combi_gain', 'all_click_gain',\n",
       "       'all_booked_gain', 'all_combi_gain', 'random_gain'],\n",
       "      dtype='object')"
      ]
     },
     "execution_count": 26,
     "metadata": {},
     "output_type": "execute_result"
    }
   ],
   "source": [
    "y.columns"
   ]
  },
  {
   "cell_type": "code",
   "execution_count": 29,
   "metadata": {},
   "outputs": [
    {
     "data": {
      "text/plain": [
       "0    1.361233\n",
       "1    0.666302\n",
       "2    1.605740\n",
       "3   -0.443776\n",
       "4   -1.769501\n",
       "Name: xg_combi_proba, dtype: float64"
      ]
     },
     "execution_count": 29,
     "metadata": {},
     "output_type": "execute_result"
    }
   ],
   "source": [
    "y['xg_combi_proba'].head()"
   ]
  },
  {
   "cell_type": "code",
   "execution_count": 21,
   "metadata": {},
   "outputs": [
    {
     "data": {
      "text/plain": [
       "380037.86347158306"
      ]
     },
     "execution_count": 21,
     "metadata": {},
     "output_type": "execute_result"
    }
   ],
   "source": [
    "y['ideal_gain'].sum()"
   ]
  },
  {
   "cell_type": "code",
   "execution_count": 23,
   "metadata": {},
   "outputs": [
    {
     "data": {
      "text/plain": [
       "132818.59534912853"
      ]
     },
     "execution_count": 23,
     "metadata": {},
     "output_type": "execute_result"
    }
   ],
   "source": [
    "y['random_gain'].sum()"
   ]
  },
  {
   "cell_type": "code",
   "execution_count": 31,
   "metadata": {},
   "outputs": [
    {
     "data": {
      "text/plain": [
       "array([[1480700,  908936],\n",
       "       [  17061,   51650]])"
      ]
     },
     "execution_count": 31,
     "metadata": {},
     "output_type": "execute_result"
    }
   ],
   "source": [
    "confusion_matrix(y['booking_bool'], y['xg_booked_predict'])"
   ]
  },
  {
   "cell_type": "code",
   "execution_count": 33,
   "metadata": {},
   "outputs": [
    {
     "data": {
      "text/plain": [
       "False    2389636\n",
       "True       68711\n",
       "Name: booking_bool, dtype: int64"
      ]
     },
     "execution_count": 33,
     "metadata": {},
     "output_type": "execute_result"
    }
   ],
   "source": [
    "y['booking_bool'].value_counts()"
   ]
  },
  {
   "cell_type": "code",
   "execution_count": 179,
   "metadata": {},
   "outputs": [
    {
     "data": {
      "text/plain": [
       "False    284\n",
       "True      16\n",
       "Name: click_bool, dtype: int64"
      ]
     },
     "execution_count": 179,
     "metadata": {},
     "output_type": "execute_result"
    }
   ],
   "source": [
    "Y_clicked_test.value_counts()"
   ]
  },
  {
   "cell_type": "code",
   "execution_count": 162,
   "metadata": {
    "collapsed": true
   },
   "outputs": [],
   "source": [
    "a = []\n",
    "for x in range(5):\n",
    "    for y in range(10):\n",
    "         a.append([x,y])\n",
    "wa = pd.DataFrame(a, columns = ['x','y'])"
   ]
  },
  {
   "cell_type": "code",
   "execution_count": 163,
   "metadata": {},
   "outputs": [
    {
     "data": {
      "text/html": [
       "<div>\n",
       "<style scoped>\n",
       "    .dataframe tbody tr th:only-of-type {\n",
       "        vertical-align: middle;\n",
       "    }\n",
       "\n",
       "    .dataframe tbody tr th {\n",
       "        vertical-align: top;\n",
       "    }\n",
       "\n",
       "    .dataframe thead th {\n",
       "        text-align: right;\n",
       "    }\n",
       "</style>\n",
       "<table border=\"1\" class=\"dataframe\">\n",
       "  <thead>\n",
       "    <tr style=\"text-align: right;\">\n",
       "      <th></th>\n",
       "      <th>x</th>\n",
       "      <th>y</th>\n",
       "    </tr>\n",
       "  </thead>\n",
       "  <tbody>\n",
       "    <tr>\n",
       "      <th>0</th>\n",
       "      <td>0</td>\n",
       "      <td>0</td>\n",
       "    </tr>\n",
       "    <tr>\n",
       "      <th>1</th>\n",
       "      <td>0</td>\n",
       "      <td>1</td>\n",
       "    </tr>\n",
       "    <tr>\n",
       "      <th>2</th>\n",
       "      <td>0</td>\n",
       "      <td>2</td>\n",
       "    </tr>\n",
       "    <tr>\n",
       "      <th>3</th>\n",
       "      <td>0</td>\n",
       "      <td>3</td>\n",
       "    </tr>\n",
       "    <tr>\n",
       "      <th>4</th>\n",
       "      <td>0</td>\n",
       "      <td>4</td>\n",
       "    </tr>\n",
       "    <tr>\n",
       "      <th>5</th>\n",
       "      <td>0</td>\n",
       "      <td>5</td>\n",
       "    </tr>\n",
       "    <tr>\n",
       "      <th>6</th>\n",
       "      <td>0</td>\n",
       "      <td>6</td>\n",
       "    </tr>\n",
       "    <tr>\n",
       "      <th>7</th>\n",
       "      <td>0</td>\n",
       "      <td>7</td>\n",
       "    </tr>\n",
       "    <tr>\n",
       "      <th>8</th>\n",
       "      <td>0</td>\n",
       "      <td>8</td>\n",
       "    </tr>\n",
       "    <tr>\n",
       "      <th>9</th>\n",
       "      <td>0</td>\n",
       "      <td>9</td>\n",
       "    </tr>\n",
       "    <tr>\n",
       "      <th>10</th>\n",
       "      <td>1</td>\n",
       "      <td>0</td>\n",
       "    </tr>\n",
       "    <tr>\n",
       "      <th>11</th>\n",
       "      <td>1</td>\n",
       "      <td>1</td>\n",
       "    </tr>\n",
       "    <tr>\n",
       "      <th>12</th>\n",
       "      <td>1</td>\n",
       "      <td>2</td>\n",
       "    </tr>\n",
       "    <tr>\n",
       "      <th>13</th>\n",
       "      <td>1</td>\n",
       "      <td>3</td>\n",
       "    </tr>\n",
       "    <tr>\n",
       "      <th>14</th>\n",
       "      <td>1</td>\n",
       "      <td>4</td>\n",
       "    </tr>\n",
       "    <tr>\n",
       "      <th>15</th>\n",
       "      <td>1</td>\n",
       "      <td>5</td>\n",
       "    </tr>\n",
       "    <tr>\n",
       "      <th>16</th>\n",
       "      <td>1</td>\n",
       "      <td>6</td>\n",
       "    </tr>\n",
       "    <tr>\n",
       "      <th>17</th>\n",
       "      <td>1</td>\n",
       "      <td>7</td>\n",
       "    </tr>\n",
       "    <tr>\n",
       "      <th>18</th>\n",
       "      <td>1</td>\n",
       "      <td>8</td>\n",
       "    </tr>\n",
       "    <tr>\n",
       "      <th>19</th>\n",
       "      <td>1</td>\n",
       "      <td>9</td>\n",
       "    </tr>\n",
       "    <tr>\n",
       "      <th>20</th>\n",
       "      <td>2</td>\n",
       "      <td>0</td>\n",
       "    </tr>\n",
       "    <tr>\n",
       "      <th>21</th>\n",
       "      <td>2</td>\n",
       "      <td>1</td>\n",
       "    </tr>\n",
       "    <tr>\n",
       "      <th>22</th>\n",
       "      <td>2</td>\n",
       "      <td>2</td>\n",
       "    </tr>\n",
       "    <tr>\n",
       "      <th>23</th>\n",
       "      <td>2</td>\n",
       "      <td>3</td>\n",
       "    </tr>\n",
       "    <tr>\n",
       "      <th>24</th>\n",
       "      <td>2</td>\n",
       "      <td>4</td>\n",
       "    </tr>\n",
       "    <tr>\n",
       "      <th>25</th>\n",
       "      <td>2</td>\n",
       "      <td>5</td>\n",
       "    </tr>\n",
       "    <tr>\n",
       "      <th>26</th>\n",
       "      <td>2</td>\n",
       "      <td>6</td>\n",
       "    </tr>\n",
       "    <tr>\n",
       "      <th>27</th>\n",
       "      <td>2</td>\n",
       "      <td>7</td>\n",
       "    </tr>\n",
       "    <tr>\n",
       "      <th>28</th>\n",
       "      <td>2</td>\n",
       "      <td>8</td>\n",
       "    </tr>\n",
       "    <tr>\n",
       "      <th>29</th>\n",
       "      <td>2</td>\n",
       "      <td>9</td>\n",
       "    </tr>\n",
       "    <tr>\n",
       "      <th>30</th>\n",
       "      <td>3</td>\n",
       "      <td>0</td>\n",
       "    </tr>\n",
       "    <tr>\n",
       "      <th>31</th>\n",
       "      <td>3</td>\n",
       "      <td>1</td>\n",
       "    </tr>\n",
       "    <tr>\n",
       "      <th>32</th>\n",
       "      <td>3</td>\n",
       "      <td>2</td>\n",
       "    </tr>\n",
       "    <tr>\n",
       "      <th>33</th>\n",
       "      <td>3</td>\n",
       "      <td>3</td>\n",
       "    </tr>\n",
       "    <tr>\n",
       "      <th>34</th>\n",
       "      <td>3</td>\n",
       "      <td>4</td>\n",
       "    </tr>\n",
       "    <tr>\n",
       "      <th>35</th>\n",
       "      <td>3</td>\n",
       "      <td>5</td>\n",
       "    </tr>\n",
       "    <tr>\n",
       "      <th>36</th>\n",
       "      <td>3</td>\n",
       "      <td>6</td>\n",
       "    </tr>\n",
       "    <tr>\n",
       "      <th>37</th>\n",
       "      <td>3</td>\n",
       "      <td>7</td>\n",
       "    </tr>\n",
       "    <tr>\n",
       "      <th>38</th>\n",
       "      <td>3</td>\n",
       "      <td>8</td>\n",
       "    </tr>\n",
       "    <tr>\n",
       "      <th>39</th>\n",
       "      <td>3</td>\n",
       "      <td>9</td>\n",
       "    </tr>\n",
       "    <tr>\n",
       "      <th>40</th>\n",
       "      <td>4</td>\n",
       "      <td>0</td>\n",
       "    </tr>\n",
       "    <tr>\n",
       "      <th>41</th>\n",
       "      <td>4</td>\n",
       "      <td>1</td>\n",
       "    </tr>\n",
       "    <tr>\n",
       "      <th>42</th>\n",
       "      <td>4</td>\n",
       "      <td>2</td>\n",
       "    </tr>\n",
       "    <tr>\n",
       "      <th>43</th>\n",
       "      <td>4</td>\n",
       "      <td>3</td>\n",
       "    </tr>\n",
       "    <tr>\n",
       "      <th>44</th>\n",
       "      <td>4</td>\n",
       "      <td>4</td>\n",
       "    </tr>\n",
       "    <tr>\n",
       "      <th>45</th>\n",
       "      <td>4</td>\n",
       "      <td>5</td>\n",
       "    </tr>\n",
       "    <tr>\n",
       "      <th>46</th>\n",
       "      <td>4</td>\n",
       "      <td>6</td>\n",
       "    </tr>\n",
       "    <tr>\n",
       "      <th>47</th>\n",
       "      <td>4</td>\n",
       "      <td>7</td>\n",
       "    </tr>\n",
       "    <tr>\n",
       "      <th>48</th>\n",
       "      <td>4</td>\n",
       "      <td>8</td>\n",
       "    </tr>\n",
       "    <tr>\n",
       "      <th>49</th>\n",
       "      <td>4</td>\n",
       "      <td>9</td>\n",
       "    </tr>\n",
       "  </tbody>\n",
       "</table>\n",
       "</div>"
      ],
      "text/plain": [
       "    x  y\n",
       "0   0  0\n",
       "1   0  1\n",
       "2   0  2\n",
       "3   0  3\n",
       "4   0  4\n",
       "5   0  5\n",
       "6   0  6\n",
       "7   0  7\n",
       "8   0  8\n",
       "9   0  9\n",
       "10  1  0\n",
       "11  1  1\n",
       "12  1  2\n",
       "13  1  3\n",
       "14  1  4\n",
       "15  1  5\n",
       "16  1  6\n",
       "17  1  7\n",
       "18  1  8\n",
       "19  1  9\n",
       "20  2  0\n",
       "21  2  1\n",
       "22  2  2\n",
       "23  2  3\n",
       "24  2  4\n",
       "25  2  5\n",
       "26  2  6\n",
       "27  2  7\n",
       "28  2  8\n",
       "29  2  9\n",
       "30  3  0\n",
       "31  3  1\n",
       "32  3  2\n",
       "33  3  3\n",
       "34  3  4\n",
       "35  3  5\n",
       "36  3  6\n",
       "37  3  7\n",
       "38  3  8\n",
       "39  3  9\n",
       "40  4  0\n",
       "41  4  1\n",
       "42  4  2\n",
       "43  4  3\n",
       "44  4  4\n",
       "45  4  5\n",
       "46  4  6\n",
       "47  4  7\n",
       "48  4  8\n",
       "49  4  9"
      ]
     },
     "execution_count": 163,
     "metadata": {},
     "output_type": "execute_result"
    }
   ],
   "source": [
    "wa"
   ]
  },
  {
   "cell_type": "code",
   "execution_count": 137,
   "metadata": {},
   "outputs": [
    {
     "data": {
      "text/plain": [
       "15"
      ]
     },
     "execution_count": 137,
     "metadata": {},
     "output_type": "execute_result"
    }
   ],
   "source": [
    "np.argmax(Y2_proba[subgroup,1])\n"
   ]
  },
  {
   "cell_type": "code",
   "execution_count": 138,
   "metadata": {},
   "outputs": [
    {
     "data": {
      "text/plain": [
       "Int64Index([ 0,  1,  2,  3,  4,  5,  6,  7,  8,  9, 10, 11, 12, 13, 14, 15, 16,\n",
       "            17, 18, 19, 20, 21, 22, 23, 24, 25, 26, 27],\n",
       "           dtype='int64')"
      ]
     },
     "execution_count": 138,
     "metadata": {},
     "output_type": "execute_result"
    }
   ],
   "source": [
    "subgroup"
   ]
  },
  {
   "cell_type": "code",
   "execution_count": 134,
   "metadata": {},
   "outputs": [
    {
     "data": {
      "text/plain": [
       "31"
      ]
     },
     "execution_count": 134,
     "metadata": {},
     "output_type": "execute_result"
    }
   ],
   "source": [
    "subgroup[3]"
   ]
  },
  {
   "cell_type": "code",
   "execution_count": 148,
   "metadata": {},
   "outputs": [
    {
     "data": {
      "text/plain": [
       "array([ 1.1912895 ,  1.0451188 ,  0.8921292 , -1.7861435 ,  0.9353764 ,\n",
       "        0.9702943 ,  0.72785723,  0.67367446,  1.0884798 ,  0.946281  ,\n",
       "        0.8812214 ,  0.4744297 ,  0.1845507 ,  0.09598336,  0.3475676 ,\n",
       "        0.14491755,  0.8288474 ,  0.29219383,  0.24206164,  0.08326882,\n",
       "        0.11208385,  0.58317137,  0.07352605,  0.23112434,  0.24206164],\n",
       "      dtype=float32)"
      ]
     },
     "execution_count": 148,
     "metadata": {},
     "output_type": "execute_result"
    }
   ],
   "source": [
    "Y2_proba[subgroup,1]"
   ]
  },
  {
   "cell_type": "code",
   "execution_count": 146,
   "metadata": {
    "collapsed": true
   },
   "outputs": [],
   "source": [
    "\n",
    "\n",
    "    "
   ]
  },
  {
   "cell_type": "code",
   "execution_count": 140,
   "metadata": {},
   "outputs": [
    {
     "data": {
      "text/plain": [
       "array([0., 0., 0., ..., 0., 0., 0.])"
      ]
     },
     "execution_count": 140,
     "metadata": {},
     "output_type": "execute_result"
    }
   ],
   "source": [
    "y_ranked_booked"
   ]
  },
  {
   "cell_type": "code",
   "execution_count": 147,
   "metadata": {},
   "outputs": [
    {
     "data": {
      "text/plain": [
       "array([[9351,  383],\n",
       "       [ 237,   29]])"
      ]
     },
     "execution_count": 147,
     "metadata": {},
     "output_type": "execute_result"
    }
   ],
   "source": [
    "confusion_matrix(Y2_test, y_ranked_booked)"
   ]
  },
  {
   "cell_type": "code",
   "execution_count": 96,
   "metadata": {},
   "outputs": [
    {
     "data": {
      "text/plain": [
       "False    9734\n",
       "True      266\n",
       "Name: booking_bool, dtype: int64"
      ]
     },
     "execution_count": 96,
     "metadata": {},
     "output_type": "execute_result"
    }
   ],
   "source": [
    "Y2_test.value_counts()"
   ]
  },
  {
   "cell_type": "code",
   "execution_count": 110,
   "metadata": {},
   "outputs": [
    {
     "data": {
      "text/plain": [
       "array([False, False, False, False, False,  True, False, False, False,\n",
       "       False])"
      ]
     },
     "execution_count": 110,
     "metadata": {},
     "output_type": "execute_result"
    }
   ],
   "source": [
    "Y2_pred[10:20]"
   ]
  },
  {
   "cell_type": "code",
   "execution_count": 113,
   "metadata": {},
   "outputs": [
    {
     "data": {
      "text/plain": [
       "array([4.1821356, 1.8880485, 2.3451734, ..., 3.9283028, 5.3698034,\n",
       "       3.3354583], dtype=float32)"
      ]
     },
     "execution_count": 113,
     "metadata": {},
     "output_type": "execute_result"
    }
   ],
   "source": [
    "Y2_proba[:,0]"
   ]
  },
  {
   "cell_type": "code",
   "execution_count": null,
   "metadata": {
    "collapsed": true
   },
   "outputs": [],
   "source": [
    "gbm_param_grid = {\n",
    "    'n_estimators': [25, 50, 100],\n",
    "    'eta' : [0.001, 0.01, 0.1]\n",
    "    'min_child_weight' : np.arange(1,5)\n",
    "    'max_depth': range(4, 12)\n",
    "    'gamma':np.arange(0,5,2)\n",
    "    'subsample':[0.01]\n",
    "    'objective':\"binary:logistic\"\n",
    "}\n",
    "\n",
    "# Instantiate the regressor: gbm\n",
    "gbm = xgb.XGBClassifier()\n",
    "\n",
    "# Perform random search: grid_mse\n",
    "#randomized_mse = RandomizedSearchCV(estimator=gbm, param_distributions=gbm_param_grid, scoring='neg_mean_squared_error', n_iter=100, cv=10, verbose=1)\n",
    "#randomized_mse.fit(X,y)\n",
    "\n",
    "# Print the best parameters and lowest RMSE\n",
    "print(\"Best parameters found: \", randomized_mse.best_params_)\n",
    "print(\"Lowest RMSE found: \", np.sqrt(np.abs(randomized_mse.best_score_)))\n",
    "\n",
    "#xg_cl = xgb.train(dtrain=dtrain, params=params, num_boost_round=20)\n",
    "\n",
    "#Predict the labels of the test set: preds\n",
    "preds = xg_ranker.predict(X_test.values)"
   ]
  },
  {
   "cell_type": "code",
   "execution_count": 199,
   "metadata": {},
   "outputs": [
    {
     "name": "stderr",
     "output_type": "stream",
     "text": [
      "/Library/Frameworks/Python.framework/Versions/3.6/lib/python3.6/site-packages/sklearn/preprocessing/label.py:151: DeprecationWarning: The truth value of an empty array is ambiguous. Returning False, but in future this will result in an error. Use `array.size > 0` to check that an array is not empty.\n",
      "  if diff:\n"
     ]
    }
   ],
   "source": [
    "X_train = data.iloc[:-5,:4]\n",
    "X_test = data.iloc[-5:,:4]\n",
    "\n",
    "Y_train = data.iloc[:-5,4]\n",
    "Y_test = data.iloc[-5:,4]\n",
    "\n",
    "dtrain = xgb.DMatrix(data=X_train,label=Y_train)\n",
    "dtest = xgb.DMatrix(data=X_test, label=Y_test)\n",
    "\n",
    "#dtrain.set_group([4,8])\n",
    "\n",
    "xg_ranker = XGBRanker()\n",
    "xg_cl = xgb.XGBClassifier(n_estimators=100, objective='rank:pairwise', seed=124)\n",
    "\n",
    "# Fit the classifier to the training set\n",
    "xg_ranker.fit(X_train.values, Y_train.values)\n",
    "\n",
    "xg_cl.fit(X_train,Y_train)\n",
    "\n",
    "#params={'eta':0.1,'max_depth':3, 'learning_rate':0.1, 'n_estimators':100, 'objective':\"binary:logistic\"}\n",
    "\n",
    "\n",
    "gbm_param_grid = {\n",
    "    'n_estimators': [25, 50, 100],\n",
    "    'eta' : [0.001, 0.01, 0.1]\n",
    "    'min_child_weight' : np.arange(1,5)\n",
    "    'max_depth': range(4, 12)\n",
    "    'gamma':np.arange(0,5,2)\n",
    "    'subsample':[0.01]\n",
    "    'objective':\"binary:logistic\"\n",
    "}\n",
    "\n",
    "# Instantiate the regressor: gbm\n",
    "gbm = xgb.XGBClassifier()\n",
    "\n",
    "# Perform random search: grid_mse\n",
    "randomized_mse = RandomizedSearchCV(estimator=gbm, param_distributions=gbm_param_grid, scoring='neg_mean_squared_error', n_iter=100, cv=10, verbose=1)\n",
    "randomized_mse.fit(X,y)\n",
    "\n",
    "# Print the best parameters and lowest RMSE\n",
    "print(\"Best parameters found: \", randomized_mse.best_params_)\n",
    "print(\"Lowest RMSE found: \", np.sqrt(np.abs(randomized_mse.best_score_)))\n",
    "\n",
    "#xg_cl = xgb.train(dtrain=dtrain, params=params, num_boost_round=20)\n",
    "\n",
    "#Predict the labels of the test set: preds\n",
    "preds = xg_ranker.predict(X_test.values)\n",
    "\n",
    "preds2 = xg_cl.predict(X_test)\n",
    "\n"
   ]
  },
  {
   "cell_type": "code",
   "execution_count": 8,
   "metadata": {},
   "outputs": [
    {
     "data": {
      "text/plain": [
       "array([0, 2, 4])"
      ]
     },
     "execution_count": 8,
     "metadata": {},
     "output_type": "execute_result"
    }
   ],
   "source": [
    "np.arange(0,5,2)"
   ]
  },
  {
   "cell_type": "code",
   "execution_count": 201,
   "metadata": {
    "collapsed": true
   },
   "outputs": [],
   "source": [
    "proba = xg_cl.predict_proba(X_test)"
   ]
  },
  {
   "cell_type": "code",
   "execution_count": 203,
   "metadata": {},
   "outputs": [
    {
     "data": {
      "text/plain": [
       "array([0.99652123, 0.98708886, 0.9970553 , 0.99361295, 0.9528438 ],\n",
       "      dtype=float32)"
      ]
     },
     "execution_count": 203,
     "metadata": {},
     "output_type": "execute_result"
    }
   ],
   "source": [
    "proba[:,2]"
   ]
  },
  {
   "cell_type": "code",
   "execution_count": 184,
   "metadata": {},
   "outputs": [
    {
     "data": {
      "text/plain": [
       "145    2\n",
       "146    2\n",
       "147    2\n",
       "148    2\n",
       "149    2\n",
       "Name: Label, dtype: int64"
      ]
     },
     "execution_count": 184,
     "metadata": {},
     "output_type": "execute_result"
    }
   ],
   "source": [
    "Y_test"
   ]
  },
  {
   "cell_type": "code",
   "execution_count": 35,
   "metadata": {},
   "outputs": [
    {
     "data": {
      "text/plain": [
       "array([[-1.0492768,  2.0492768],\n",
       "       [-1.0492768,  2.0492768],\n",
       "       [ 2.0492768, -1.0492767]], dtype=float32)"
      ]
     },
     "execution_count": 35,
     "metadata": {},
     "output_type": "execute_result"
    }
   ],
   "source": [
    "pred3"
   ]
  }
 ],
 "metadata": {
  "kernelspec": {
   "display_name": "Python 3",
   "language": "python",
   "name": "python3"
  },
  "language_info": {
   "codemirror_mode": {
    "name": "ipython",
    "version": 3
   },
   "file_extension": ".py",
   "mimetype": "text/x-python",
   "name": "python",
   "nbconvert_exporter": "python",
   "pygments_lexer": "ipython3",
   "version": "3.6.3"
  }
 },
 "nbformat": 4,
 "nbformat_minor": 2
}
