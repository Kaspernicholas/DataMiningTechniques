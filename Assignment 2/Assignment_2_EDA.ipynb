{
 "cells": [
  {
   "cell_type": "markdown",
   "metadata": {},
   "source": [
    "# Data Mining - Assignment 2"
   ]
  },
  {
   "cell_type": "code",
   "execution_count": 1,
   "metadata": {},
   "outputs": [],
   "source": [
    "import pandas as pd\n",
    "import dask.dataframe as dd\n",
    "import numpy as np\n",
    "import matplotlib.pyplot as plt\n",
    "from matplotlib.ticker import FuncFormatter"
   ]
  },
  {
   "cell_type": "code",
   "execution_count": 2,
   "metadata": {},
   "outputs": [],
   "source": [
    "FILE = '/home/walter/Desktop/DMT_data/training_set_VU_DM_2014.csv'"
   ]
  },
  {
   "cell_type": "code",
   "execution_count": 3,
   "metadata": {},
   "outputs": [],
   "source": [
    "df = dd.read_csv(FILE)"
   ]
  },
  {
   "cell_type": "code",
   "execution_count": 12,
   "metadata": {},
   "outputs": [
    {
     "data": {
      "text/plain": [
       "srch_id                          int64\n",
       "date_time                       object\n",
       "site_id                          int64\n",
       "visitor_location_country_id      int64\n",
       "visitor_hist_starrating        float64\n",
       "visitor_hist_adr_usd           float64\n",
       "prop_country_id                  int64\n",
       "prop_id                          int64\n",
       "prop_starrating                  int64\n",
       "prop_review_score              float64\n",
       "prop_brand_bool                  int64\n",
       "prop_location_score1           float64\n",
       "prop_location_score2           float64\n",
       "prop_log_historical_price      float64\n",
       "position                         int64\n",
       "price_usd                      float64\n",
       "promotion_flag                   int64\n",
       "srch_destination_id              int64\n",
       "srch_length_of_stay              int64\n",
       "srch_booking_window              int64\n",
       "srch_adults_count                int64\n",
       "srch_children_count              int64\n",
       "srch_room_count                  int64\n",
       "srch_saturday_night_bool         int64\n",
       "srch_query_affinity_score      float64\n",
       "orig_destination_distance      float64\n",
       "random_bool                      int64\n",
       "comp1_rate                     float64\n",
       "comp1_inv                      float64\n",
       "comp1_rate_percent_diff        float64\n",
       "comp2_rate                     float64\n",
       "comp2_inv                      float64\n",
       "comp2_rate_percent_diff        float64\n",
       "comp3_rate                     float64\n",
       "comp3_inv                      float64\n",
       "comp3_rate_percent_diff        float64\n",
       "comp4_rate                     float64\n",
       "comp4_inv                      float64\n",
       "comp4_rate_percent_diff        float64\n",
       "comp5_rate                     float64\n",
       "comp5_inv                      float64\n",
       "comp5_rate_percent_diff        float64\n",
       "comp6_rate                     float64\n",
       "comp6_inv                      float64\n",
       "comp6_rate_percent_diff        float64\n",
       "comp7_rate                     float64\n",
       "comp7_inv                      float64\n",
       "comp7_rate_percent_diff        float64\n",
       "comp8_rate                     float64\n",
       "comp8_inv                      float64\n",
       "comp8_rate_percent_diff        float64\n",
       "click_bool                       int64\n",
       "gross_bookings_usd             float64\n",
       "booking_bool                     int64\n",
       "dtype: object"
      ]
     },
     "execution_count": 12,
     "metadata": {},
     "output_type": "execute_result"
    }
   ],
   "source": [
    "df.dtypes"
   ]
  },
  {
   "cell_type": "code",
   "execution_count": 13,
   "metadata": {},
   "outputs": [
    {
     "name": "stdout",
     "output_type": "stream",
     "text": [
      "4958347\n"
     ]
    }
   ],
   "source": [
    "length = len(df)\n",
    "print(length)"
   ]
  },
  {
   "cell_type": "code",
   "execution_count": 4,
   "metadata": {},
   "outputs": [
    {
     "data": {
      "text/plain": [
       "129113"
      ]
     },
     "execution_count": 4,
     "metadata": {},
     "output_type": "execute_result"
    }
   ],
   "source": [
    "uni_search = df['srch_id'].unique().compute()\n",
    "uni_v_loc = df['visitor_location_country_id'].unique().compute()\n",
    "uni_site = df['site_id'].unique().compute()\n",
    "uni_prop = df['prop_id'].unique().compute()\n",
    "len(uni_search)\n",
    "len(uni_prop)\n"
   ]
  },
  {
   "cell_type": "code",
   "execution_count": 7,
   "metadata": {},
   "outputs": [
    {
     "data": {
      "text/plain": [
       "0             1.0\n",
       "1             4.0\n",
       "2             NaN\n",
       "3            11.0\n",
       "4            12.0\n",
       "5            17.0\n",
       "6            31.0\n",
       "7            40.0\n",
       "8            43.0\n",
       "9            56.0\n",
       "10           61.0\n",
       "11           63.0\n",
       "12           71.0\n",
       "13           75.0\n",
       "14           81.0\n",
       "15           83.0\n",
       "16           90.0\n",
       "17           96.0\n",
       "18          101.0\n",
       "19          103.0\n",
       "20          104.0\n",
       "21          107.0\n",
       "22          108.0\n",
       "23          110.0\n",
       "24          117.0\n",
       "25          119.0\n",
       "26          126.0\n",
       "27          127.0\n",
       "28          133.0\n",
       "29          134.0\n",
       "           ...   \n",
       "60722    332661.0\n",
       "60723    332666.0\n",
       "60724    332667.0\n",
       "60725    332668.0\n",
       "60726    332682.0\n",
       "60727    332685.0\n",
       "60728    332686.0\n",
       "60729    332689.0\n",
       "60730    332690.0\n",
       "60731    332691.0\n",
       "60732    332693.0\n",
       "60733    332701.0\n",
       "60734    332706.0\n",
       "60735    332707.0\n",
       "60736    332710.0\n",
       "60737    332713.0\n",
       "60738    332715.0\n",
       "60739    332717.0\n",
       "60740    332718.0\n",
       "60741    332729.0\n",
       "60742    332730.0\n",
       "60743    332732.0\n",
       "60744    332742.0\n",
       "60745    332747.0\n",
       "60746    332749.0\n",
       "60747    332750.0\n",
       "60748    332751.0\n",
       "60749    332752.0\n",
       "60750    332765.0\n",
       "60751    332777.0\n",
       "Name: srch_id, Length: 60752, dtype: float64"
      ]
     },
     "execution_count": 7,
     "metadata": {},
     "output_type": "execute_result"
    }
   ],
   "source": [
    "# List of all randomly ranked searches\n",
    "df['srch_id'].where(df['random_bool']==1).unique().compute()"
   ]
  },
  {
   "cell_type": "code",
   "execution_count": 16,
   "metadata": {},
   "outputs": [
    {
     "data": {
      "text/html": [
       "<div>\n",
       "<style scoped>\n",
       "    .dataframe tbody tr th:only-of-type {\n",
       "        vertical-align: middle;\n",
       "    }\n",
       "\n",
       "    .dataframe tbody tr th {\n",
       "        vertical-align: top;\n",
       "    }\n",
       "\n",
       "    .dataframe thead th {\n",
       "        text-align: right;\n",
       "    }\n",
       "</style>\n",
       "<table border=\"1\" class=\"dataframe\">\n",
       "  <thead>\n",
       "    <tr style=\"text-align: right;\">\n",
       "      <th></th>\n",
       "      <th>srch_id</th>\n",
       "      <th>date_time</th>\n",
       "      <th>site_id</th>\n",
       "      <th>visitor_location_country_id</th>\n",
       "      <th>visitor_hist_starrating</th>\n",
       "      <th>visitor_hist_adr_usd</th>\n",
       "      <th>prop_country_id</th>\n",
       "      <th>prop_id</th>\n",
       "      <th>prop_starrating</th>\n",
       "      <th>prop_review_score</th>\n",
       "      <th>...</th>\n",
       "      <th>comp6_rate_percent_diff</th>\n",
       "      <th>comp7_rate</th>\n",
       "      <th>comp7_inv</th>\n",
       "      <th>comp7_rate_percent_diff</th>\n",
       "      <th>comp8_rate</th>\n",
       "      <th>comp8_inv</th>\n",
       "      <th>comp8_rate_percent_diff</th>\n",
       "      <th>click_bool</th>\n",
       "      <th>gross_bookings_usd</th>\n",
       "      <th>booking_bool</th>\n",
       "    </tr>\n",
       "  </thead>\n",
       "  <tbody>\n",
       "    <tr>\n",
       "      <th>0</th>\n",
       "      <td>1</td>\n",
       "      <td>2013-04-04 08:32:15</td>\n",
       "      <td>12</td>\n",
       "      <td>187</td>\n",
       "      <td>NaN</td>\n",
       "      <td>NaN</td>\n",
       "      <td>219</td>\n",
       "      <td>893</td>\n",
       "      <td>3</td>\n",
       "      <td>3.5</td>\n",
       "      <td>...</td>\n",
       "      <td>NaN</td>\n",
       "      <td>NaN</td>\n",
       "      <td>NaN</td>\n",
       "      <td>NaN</td>\n",
       "      <td>0.0</td>\n",
       "      <td>0.0</td>\n",
       "      <td>NaN</td>\n",
       "      <td>0</td>\n",
       "      <td>NaN</td>\n",
       "      <td>0</td>\n",
       "    </tr>\n",
       "    <tr>\n",
       "      <th>1</th>\n",
       "      <td>1</td>\n",
       "      <td>2013-04-04 08:32:15</td>\n",
       "      <td>12</td>\n",
       "      <td>187</td>\n",
       "      <td>NaN</td>\n",
       "      <td>NaN</td>\n",
       "      <td>219</td>\n",
       "      <td>10404</td>\n",
       "      <td>4</td>\n",
       "      <td>4.0</td>\n",
       "      <td>...</td>\n",
       "      <td>NaN</td>\n",
       "      <td>NaN</td>\n",
       "      <td>NaN</td>\n",
       "      <td>NaN</td>\n",
       "      <td>0.0</td>\n",
       "      <td>0.0</td>\n",
       "      <td>NaN</td>\n",
       "      <td>0</td>\n",
       "      <td>NaN</td>\n",
       "      <td>0</td>\n",
       "    </tr>\n",
       "    <tr>\n",
       "      <th>2</th>\n",
       "      <td>1</td>\n",
       "      <td>2013-04-04 08:32:15</td>\n",
       "      <td>12</td>\n",
       "      <td>187</td>\n",
       "      <td>NaN</td>\n",
       "      <td>NaN</td>\n",
       "      <td>219</td>\n",
       "      <td>21315</td>\n",
       "      <td>3</td>\n",
       "      <td>4.5</td>\n",
       "      <td>...</td>\n",
       "      <td>NaN</td>\n",
       "      <td>NaN</td>\n",
       "      <td>NaN</td>\n",
       "      <td>NaN</td>\n",
       "      <td>0.0</td>\n",
       "      <td>0.0</td>\n",
       "      <td>NaN</td>\n",
       "      <td>0</td>\n",
       "      <td>NaN</td>\n",
       "      <td>0</td>\n",
       "    </tr>\n",
       "    <tr>\n",
       "      <th>3</th>\n",
       "      <td>1</td>\n",
       "      <td>2013-04-04 08:32:15</td>\n",
       "      <td>12</td>\n",
       "      <td>187</td>\n",
       "      <td>NaN</td>\n",
       "      <td>NaN</td>\n",
       "      <td>219</td>\n",
       "      <td>27348</td>\n",
       "      <td>2</td>\n",
       "      <td>4.0</td>\n",
       "      <td>...</td>\n",
       "      <td>NaN</td>\n",
       "      <td>NaN</td>\n",
       "      <td>NaN</td>\n",
       "      <td>NaN</td>\n",
       "      <td>-1.0</td>\n",
       "      <td>0.0</td>\n",
       "      <td>5.0</td>\n",
       "      <td>0</td>\n",
       "      <td>NaN</td>\n",
       "      <td>0</td>\n",
       "    </tr>\n",
       "    <tr>\n",
       "      <th>4</th>\n",
       "      <td>1</td>\n",
       "      <td>2013-04-04 08:32:15</td>\n",
       "      <td>12</td>\n",
       "      <td>187</td>\n",
       "      <td>NaN</td>\n",
       "      <td>NaN</td>\n",
       "      <td>219</td>\n",
       "      <td>29604</td>\n",
       "      <td>4</td>\n",
       "      <td>3.5</td>\n",
       "      <td>...</td>\n",
       "      <td>NaN</td>\n",
       "      <td>NaN</td>\n",
       "      <td>NaN</td>\n",
       "      <td>NaN</td>\n",
       "      <td>0.0</td>\n",
       "      <td>0.0</td>\n",
       "      <td>NaN</td>\n",
       "      <td>0</td>\n",
       "      <td>NaN</td>\n",
       "      <td>0</td>\n",
       "    </tr>\n",
       "  </tbody>\n",
       "</table>\n",
       "<p>5 rows × 54 columns</p>\n",
       "</div>"
      ],
      "text/plain": [
       "   srch_id            date_time  site_id  visitor_location_country_id  \\\n",
       "0        1  2013-04-04 08:32:15       12                          187   \n",
       "1        1  2013-04-04 08:32:15       12                          187   \n",
       "2        1  2013-04-04 08:32:15       12                          187   \n",
       "3        1  2013-04-04 08:32:15       12                          187   \n",
       "4        1  2013-04-04 08:32:15       12                          187   \n",
       "\n",
       "   visitor_hist_starrating  visitor_hist_adr_usd  prop_country_id  prop_id  \\\n",
       "0                      NaN                   NaN              219      893   \n",
       "1                      NaN                   NaN              219    10404   \n",
       "2                      NaN                   NaN              219    21315   \n",
       "3                      NaN                   NaN              219    27348   \n",
       "4                      NaN                   NaN              219    29604   \n",
       "\n",
       "   prop_starrating  prop_review_score      ...       comp6_rate_percent_diff  \\\n",
       "0                3                3.5      ...                           NaN   \n",
       "1                4                4.0      ...                           NaN   \n",
       "2                3                4.5      ...                           NaN   \n",
       "3                2                4.0      ...                           NaN   \n",
       "4                4                3.5      ...                           NaN   \n",
       "\n",
       "   comp7_rate  comp7_inv  comp7_rate_percent_diff  comp8_rate  comp8_inv  \\\n",
       "0         NaN        NaN                      NaN         0.0        0.0   \n",
       "1         NaN        NaN                      NaN         0.0        0.0   \n",
       "2         NaN        NaN                      NaN         0.0        0.0   \n",
       "3         NaN        NaN                      NaN        -1.0        0.0   \n",
       "4         NaN        NaN                      NaN         0.0        0.0   \n",
       "\n",
       "   comp8_rate_percent_diff  click_bool  gross_bookings_usd  booking_bool  \n",
       "0                      NaN           0                 NaN             0  \n",
       "1                      NaN           0                 NaN             0  \n",
       "2                      NaN           0                 NaN             0  \n",
       "3                      5.0           0                 NaN             0  \n",
       "4                      NaN           0                 NaN             0  \n",
       "\n",
       "[5 rows x 54 columns]"
      ]
     },
     "execution_count": 16,
     "metadata": {},
     "output_type": "execute_result"
    }
   ],
   "source": [
    "df.head()"
   ]
  },
  {
   "cell_type": "code",
   "execution_count": 21,
   "metadata": {},
   "outputs": [],
   "source": [
    "# count missing values\n",
    "nulls = df.isnull().sum(axis=0).compute()"
   ]
  },
  {
   "cell_type": "code",
   "execution_count": 29,
   "metadata": {},
   "outputs": [],
   "source": [
    "sparsity = nulls.sort_values()/length"
   ]
  },
  {
   "cell_type": "code",
   "execution_count": 74,
   "metadata": {},
   "outputs": [
    {
     "data": {
      "image/png": "[encoded data removed]",
      "text/plain": [
       "<Figure size 1080x504 with 1 Axes>"
      ]
     },
     "metadata": {},
     "output_type": "display_data"
    }
   ],
   "source": [
    "fig, ax = plt.subplots(figsize=[15, 7])\n",
    "ax.bar(sparsity.index, sparsity.values)\n",
    "ax.set_axisbelow(True)\n",
    "ax.grid(axis='y', ls='--')\n",
    "ax.set_xticklabels(sparsity.index, rotation=45, fontdict={'ha': 'right', 'va': 'baseline'})\n",
    "ax.set_yticklabels(['{:.0%}'.format(i) for i in np.linspace(0, 1, 6)])\n",
    "ax.set_ylim(0, 1)\n",
    "plt.show()"
   ]
  },
  {
   "cell_type": "code",
   "execution_count": 17,
   "metadata": {},
   "outputs": [
    {
     "data": {
      "image/png": "[encoded data removed]",
      "text/plain": [
       "<Figure size 1080x360 with 1 Axes>"
      ]
     },
     "metadata": {},
     "output_type": "display_data"
    }
   ],
   "source": [
    "# plot hist of positions of clicked hotels \n",
    "pos_clicked = df['position'].where(df['click_bool']==1).compute()\n",
    "pos_booked = df['position'].where(df['booking_bool']==1).compute()\n",
    "pos_clicked = pos_clicked.value_counts(normalize=True)\n",
    "pos_clicked.index = pos_clicked.index.map(int)\n",
    "pos_booked = pos_booked.value_counts(normalize=True)\n",
    "pos_booked.index = pos_booked.index.map(int)\n",
    "\n",
    "fig, ax = plt.subplots(figsize=[15,5])\n",
    "x = np.arange(1, 41)\n",
    "ax.bar(x-0.2, pos_clicked[x], width=0.4, label='Clicked')\n",
    "ax.bar(x+0.2, pos_booked[x], width=0.4, label='Booked')\n",
    "ax.set_xticks(x)\n",
    "ax.set_yticklabels(['{:.1%}'.format(i) for i in np.linspace(0, 0.2, 9)])\n",
    "\n",
    "plt.legend()\n",
    "plt.show()"
   ]
  },
  {
   "cell_type": "code",
   "execution_count": 19,
   "metadata": {},
   "outputs": [
    {
     "name": "stderr",
     "output_type": "stream",
     "text": [
      "/home/walter/.local/lib/python3.5/site-packages/pandas/core/series.py:696: FutureWarning: \n",
      "Passing list-likes to .loc or [] with any missing label will raise\n",
      "KeyError in the future, you can use .reindex() as an alternative.\n",
      "\n",
      "See the documentation here:\n",
      "http://pandas.pydata.org/pandas-docs/stable/indexing.html#deprecate-loc-reindex-listlike\n",
      "  return self.loc[key]\n"
     ]
    },
    {
     "data": {
      "image/png": "[encoded data removed]",
      "text/plain": [
       "<Figure size 1080x360 with 1 Axes>"
      ]
     },
     "metadata": {},
     "output_type": "display_data"
    }
   ],
   "source": [
    "# plot hist of positions of booked hotels where ranking was random vs. ordered\n",
    "pos_random = df['position'].where(df['booking_bool']==1).where(df['random_bool']==1).compute()\n",
    "pos_ordered = df['position'].where(df['booking_bool']==1).where(df['random_bool']==0).compute()\n",
    "pos_random = pos_random.value_counts(normalize=True)\n",
    "pos_random.index = pos_random.index.map(int)\n",
    "pos_ordered = pos_ordered.value_counts(normalize=True)\n",
    "pos_ordered.index = pos_ordered.index.map(int)\n",
    "\n",
    "fig, ax = plt.subplots(figsize=[15,5])\n",
    "x = np.arange(1, 41)\n",
    "ax.bar(x-0.2, pos_random[x], width=0.4, label='Random')\n",
    "ax.bar(x+0.2, pos_ordered[x], width=0.4, label='Ordered')\n",
    "ax.set_xticks(x)\n",
    "ax.set_yticklabels(['{:.1%}'.format(i) for i in np.linspace(0, 0.2, 9)])\n",
    "\n",
    "plt.legend()\n",
    "plt.show()"
   ]
  },
  {
   "cell_type": "code",
   "execution_count": 7,
   "metadata": {},
   "outputs": [
    {
     "name": "stdout",
     "output_type": "stream",
     "text": [
      "116942.0    245\n",
      "77089.0     191\n",
      "22578.0     182\n",
      "137997.0    174\n",
      "104517.0    174\n",
      "37818.0     160\n",
      "53494.0     156\n",
      "70177.0     138\n",
      "38419.0     131\n",
      "23268.0     125\n",
      "31442.0     123\n",
      "61529.0     120\n",
      "1230.0      119\n",
      "14536.0     118\n",
      "134154.0    116\n",
      "40279.0     115\n",
      "124342.0    115\n",
      "98803.0     114\n",
      "21018.0     113\n",
      "60846.0     112\n",
      "53547.0     112\n",
      "37124.0     110\n",
      "62726.0     109\n",
      "44213.0     109\n",
      "68420.0     107\n",
      "34151.0     105\n",
      "79740.0     105\n",
      "132210.0    103\n",
      "13674.0     103\n",
      "14082.0     102\n",
      "           ... \n",
      "64192.0       1\n",
      "64199.0       1\n",
      "64203.0       1\n",
      "64205.0       1\n",
      "64207.0       1\n",
      "64209.0       1\n",
      "64218.0       1\n",
      "64219.0       1\n",
      "64220.0       1\n",
      "64221.0       1\n",
      "64233.0       1\n",
      "64236.0       1\n",
      "64244.0       1\n",
      "64250.0       1\n",
      "64271.0       1\n",
      "64273.0       1\n",
      "64275.0       1\n",
      "64283.0       1\n",
      "64289.0       1\n",
      "64317.0       1\n",
      "64319.0       1\n",
      "64320.0       1\n",
      "64325.0       1\n",
      "64337.0       1\n",
      "64339.0       1\n",
      "64361.0       1\n",
      "64362.0       1\n",
      "64367.0       1\n",
      "64371.0       1\n",
      "2.0           1\n",
      "Name: prop_id, Length: 57861, dtype: int64\n",
      "116942.0    159\n",
      "22578.0     140\n",
      "77089.0     122\n",
      "53494.0     117\n",
      "137997.0    109\n",
      "37818.0     105\n",
      "104517.0     93\n",
      "70177.0      91\n",
      "53547.0      90\n",
      "61529.0      89\n",
      "134154.0     87\n",
      "98803.0      85\n",
      "34151.0      83\n",
      "137042.0     80\n",
      "132210.0     80\n",
      "1230.0       79\n",
      "25159.0      78\n",
      "79740.0      77\n",
      "124342.0     73\n",
      "95307.0      71\n",
      "23268.0      71\n",
      "53341.0      70\n",
      "51178.0      70\n",
      "14536.0      70\n",
      "38419.0      69\n",
      "37124.0      68\n",
      "27525.0      67\n",
      "13674.0      67\n",
      "31442.0      67\n",
      "62726.0      66\n",
      "           ... \n",
      "66623.0       1\n",
      "66634.0       1\n",
      "66635.0       1\n",
      "66467.0       1\n",
      "66437.0       1\n",
      "66429.0       1\n",
      "66341.0       1\n",
      "66288.0       1\n",
      "66294.0       1\n",
      "66298.0       1\n",
      "66299.0       1\n",
      "66303.0       1\n",
      "66305.0       1\n",
      "66311.0       1\n",
      "66322.0       1\n",
      "66337.0       1\n",
      "66339.0       1\n",
      "66347.0       1\n",
      "66401.0       1\n",
      "66351.0       1\n",
      "66352.0       1\n",
      "66355.0       1\n",
      "66357.0       1\n",
      "66359.0       1\n",
      "66365.0       1\n",
      "66382.0       1\n",
      "66384.0       1\n",
      "66387.0       1\n",
      "66394.0       1\n",
      "2.0           1\n",
      "Name: prop_id, Length: 43428, dtype: int64\n"
     ]
    }
   ],
   "source": [
    "clicked_properties = df['prop_id'].where(df['click_bool']==1).compute()\n",
    "clicked_properties = clicked_properties.value_counts()\n",
    "booking_properties = df['prop_id'].where(df['booking_bool']==1).compute()\n",
    "booking_properties = booking_properties.value_counts()\n",
    "print(clicked_properties)\n",
    "print(booking_properties)"
   ]
  },
  {
   "cell_type": "code",
   "execution_count": 10,
   "metadata": {},
   "outputs": [
    {
     "ename": "AttributeError",
     "evalue": "'DataFrame' object has no attribute 'histogram'",
     "output_type": "error",
     "traceback": [
      "\u001b[0;31m---------------------------------------------------------------------------\u001b[0m",
      "\u001b[0;31mAttributeError\u001b[0m                            Traceback (most recent call last)",
      "\u001b[0;32m<ipython-input-10-7533b56b0700>\u001b[0m in \u001b[0;36m<module>\u001b[0;34m()\u001b[0m\n\u001b[0;32m----> 1\u001b[0;31m \u001b[0mh\u001b[0m\u001b[0;34m,\u001b[0m \u001b[0mbins\u001b[0m \u001b[0;34m=\u001b[0m \u001b[0mdf\u001b[0m\u001b[0;34m.\u001b[0m\u001b[0mhistogram\u001b[0m\u001b[0;34m(\u001b[0m\u001b[0mclicked_properties\u001b[0m\u001b[0;34m,\u001b[0m \u001b[0mbins\u001b[0m\u001b[0;34m=\u001b[0m\u001b[0;36m100\u001b[0m\u001b[0;34m,\u001b[0m \u001b[0mrange\u001b[0m\u001b[0;34m=\u001b[0m\u001b[0;34m[\u001b[0m\u001b[0;36m0\u001b[0m\u001b[0;34m,\u001b[0m \u001b[0;36m250\u001b[0m\u001b[0;34m]\u001b[0m\u001b[0;34m)\u001b[0m\u001b[0;34m\u001b[0m\u001b[0m\n\u001b[0m",
      "\u001b[0;32m~/.local/lib/python3.5/site-packages/dask/dataframe/core.py\u001b[0m in \u001b[0;36m__getattr__\u001b[0;34m(self, key)\u001b[0m\n\u001b[1;32m   2355\u001b[0m             return new_dd_object(merge(self.dask, dsk), name,\n\u001b[1;32m   2356\u001b[0m                                  meta, self.divisions)\n\u001b[0;32m-> 2357\u001b[0;31m         \u001b[0;32mraise\u001b[0m \u001b[0mAttributeError\u001b[0m\u001b[0;34m(\u001b[0m\u001b[0;34m\"'DataFrame' object has no attribute %r\"\u001b[0m \u001b[0;34m%\u001b[0m \u001b[0mkey\u001b[0m\u001b[0;34m)\u001b[0m\u001b[0;34m\u001b[0m\u001b[0m\n\u001b[0m\u001b[1;32m   2358\u001b[0m \u001b[0;34m\u001b[0m\u001b[0m\n\u001b[1;32m   2359\u001b[0m     \u001b[0;32mdef\u001b[0m \u001b[0m__dir__\u001b[0m\u001b[0;34m(\u001b[0m\u001b[0mself\u001b[0m\u001b[0;34m)\u001b[0m\u001b[0;34m:\u001b[0m\u001b[0;34m\u001b[0m\u001b[0m\n",
      "\u001b[0;31mAttributeError\u001b[0m: 'DataFrame' object has no attribute 'histogram'"
     ]
    }
   ],
   "source": [
    "h, bins = df.histogram(clicked_properties, bins=100, range=[0, 250])"
   ]
  },
  {
   "cell_type": "code",
   "execution_count": null,
   "metadata": {},
   "outputs": [],
   "source": []
  }
 ],
 "metadata": {
  "kernelspec": {
   "display_name": "Python 3",
   "language": "python",
   "name": "python3"
  },
  "language_info": {
   "codemirror_mode": {
    "name": "ipython",
    "version": 3
   },
   "file_extension": ".py",
   "mimetype": "text/x-python",
   "name": "python",
   "nbconvert_exporter": "python",
   "pygments_lexer": "ipython3",
   "version": "3.5.2"
  }
 },
 "nbformat": 4,
 "nbformat_minor": 2
}
