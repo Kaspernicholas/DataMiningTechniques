{
 "cells": [
  {
   "cell_type": "markdown",
   "metadata": {},
   "source": [
    "# Data Mining - Assignment 2"
   ]
  },
  {
   "cell_type": "code",
   "execution_count": 1,
   "metadata": {},
   "outputs": [],
   "source": [
    "import pandas as pd\n",
    "import dask.dataframe as dd\n",
    "from dask.multiprocessing import get\n",
    "import numpy as np\n",
    "import matplotlib.pyplot as plt\n",
    "from matplotlib.ticker import FuncFormatter\n",
    "from multiprocessing import cpu_count\n",
    "from tqdm import trange\n",
    "from math import isnan"
   ]
  },
  {
   "cell_type": "code",
   "execution_count": 2,
   "metadata": {},
   "outputs": [
    {
     "data": {
      "text/plain": [
       "2"
      ]
     },
     "execution_count": 2,
     "metadata": {},
     "output_type": "execute_result"
    }
   ],
   "source": [
    "cpu_count()"
   ]
  },
  {
   "cell_type": "code",
   "execution_count": 3,
   "metadata": {},
   "outputs": [],
   "source": [
    "# FILE = '/home/walter/Desktop/DMT_data/training_set_VU_DM_2014.csv'\n",
    "FILE = '../../ExpediaData/training_set_VU_DM_2014.csv'\n",
    "FILE_TEST = '../../ExpediaData/test_set_VU_DM_2014.csv'"
   ]
  },
  {
   "cell_type": "code",
   "execution_count": 4,
   "metadata": {},
   "outputs": [],
   "source": [
    "df = dd.read_csv(FILE)"
   ]
  },
  {
   "cell_type": "code",
   "execution_count": 59,
   "metadata": {},
   "outputs": [
    {
     "data": {
      "text/plain": [
       "['../../ExpediaData/train_split/train_data_00.csv',\n",
       " '../../ExpediaData/train_split/train_data_01.csv',\n",
       " '../../ExpediaData/train_split/train_data_02.csv',\n",
       " '../../ExpediaData/train_split/train_data_03.csv',\n",
       " '../../ExpediaData/train_split/train_data_04.csv',\n",
       " '../../ExpediaData/train_split/train_data_05.csv',\n",
       " '../../ExpediaData/train_split/train_data_06.csv',\n",
       " '../../ExpediaData/train_split/train_data_07.csv',\n",
       " '../../ExpediaData/train_split/train_data_08.csv',\n",
       " '../../ExpediaData/train_split/train_data_09.csv',\n",
       " '../../ExpediaData/train_split/train_data_10.csv',\n",
       " '../../ExpediaData/train_split/train_data_11.csv',\n",
       " '../../ExpediaData/train_split/train_data_12.csv',\n",
       " '../../ExpediaData/train_split/train_data_13.csv',\n",
       " '../../ExpediaData/train_split/train_data_14.csv',\n",
       " '../../ExpediaData/train_split/train_data_15.csv',\n",
       " '../../ExpediaData/train_split/train_data_16.csv',\n",
       " '../../ExpediaData/train_split/train_data_17.csv',\n",
       " '../../ExpediaData/train_split/train_data_18.csv',\n",
       " '../../ExpediaData/train_split/train_data_19.csv']"
      ]
     },
     "execution_count": 59,
     "metadata": {},
     "output_type": "execute_result"
    }
   ],
   "source": [
    "df.to_csv('../../ExpediaData/train_split/train_data_*.csv')"
   ]
  },
  {
   "cell_type": "code",
   "execution_count": 22,
   "metadata": {},
   "outputs": [],
   "source": [
    "df_test = dd.read_csv(FILE_TEST)"
   ]
  },
  {
   "cell_type": "code",
   "execution_count": 20,
   "metadata": {},
   "outputs": [
    {
     "data": {
      "text/plain": [
       "srch_id                          int64\n",
       "date_time                       object\n",
       "site_id                          int64\n",
       "visitor_location_country_id      int64\n",
       "visitor_hist_starrating        float64\n",
       "visitor_hist_adr_usd           float64\n",
       "prop_country_id                  int64\n",
       "prop_id                          int64\n",
       "prop_starrating                  int64\n",
       "prop_review_score              float64\n",
       "prop_brand_bool                  int64\n",
       "prop_location_score1           float64\n",
       "prop_location_score2           float64\n",
       "prop_log_historical_price      float64\n",
       "position                         int64\n",
       "price_usd                      float64\n",
       "promotion_flag                   int64\n",
       "srch_destination_id              int64\n",
       "srch_length_of_stay              int64\n",
       "srch_booking_window              int64\n",
       "srch_adults_count                int64\n",
       "srch_children_count              int64\n",
       "srch_room_count                  int64\n",
       "srch_saturday_night_bool         int64\n",
       "srch_query_affinity_score      float64\n",
       "orig_destination_distance      float64\n",
       "random_bool                      int64\n",
       "comp1_rate                     float64\n",
       "comp1_inv                      float64\n",
       "comp1_rate_percent_diff        float64\n",
       "comp2_rate                     float64\n",
       "comp2_inv                      float64\n",
       "comp2_rate_percent_diff        float64\n",
       "comp3_rate                     float64\n",
       "comp3_inv                      float64\n",
       "comp3_rate_percent_diff        float64\n",
       "comp4_rate                     float64\n",
       "comp4_inv                      float64\n",
       "comp4_rate_percent_diff        float64\n",
       "comp5_rate                     float64\n",
       "comp5_inv                      float64\n",
       "comp5_rate_percent_diff        float64\n",
       "comp6_rate                     float64\n",
       "comp6_inv                      float64\n",
       "comp6_rate_percent_diff        float64\n",
       "comp7_rate                     float64\n",
       "comp7_inv                      float64\n",
       "comp7_rate_percent_diff        float64\n",
       "comp8_rate                     float64\n",
       "comp8_inv                      float64\n",
       "comp8_rate_percent_diff        float64\n",
       "click_bool                       int64\n",
       "gross_bookings_usd             float64\n",
       "booking_bool                     int64\n",
       "dtype: object"
      ]
     },
     "execution_count": 20,
     "metadata": {},
     "output_type": "execute_result"
    }
   ],
   "source": [
    "df.dtypes"
   ]
  },
  {
   "cell_type": "code",
   "execution_count": 5,
   "metadata": {},
   "outputs": [
    {
     "name": "stdout",
     "output_type": "stream",
     "text": [
      "4958347\n"
     ]
    }
   ],
   "source": [
    "length = len(df)\n",
    "print(length)"
   ]
  },
  {
   "cell_type": "code",
   "execution_count": 4,
   "metadata": {},
   "outputs": [
    {
     "data": {
      "text/plain": [
       "129113"
      ]
     },
     "execution_count": 4,
     "metadata": {},
     "output_type": "execute_result"
    }
   ],
   "source": [
    "uni_search = df['srch_id'].unique().compute()\n",
    "uni_v_loc = df['visitor_location_country_id'].unique().compute()\n",
    "uni_site = df['site_id'].unique().compute()\n",
    "uni_prop = df['prop_id'].unique().compute()\n",
    "len(uni_search)\n",
    "len(uni_prop)\n"
   ]
  },
  {
   "cell_type": "code",
   "execution_count": 7,
   "metadata": {},
   "outputs": [
    {
     "data": {
      "text/plain": [
       "0             1.0\n",
       "1             4.0\n",
       "2             NaN\n",
       "3            11.0\n",
       "4            12.0\n",
       "5            17.0\n",
       "6            31.0\n",
       "7            40.0\n",
       "8            43.0\n",
       "9            56.0\n",
       "10           61.0\n",
       "11           63.0\n",
       "12           71.0\n",
       "13           75.0\n",
       "14           81.0\n",
       "15           83.0\n",
       "16           90.0\n",
       "17           96.0\n",
       "18          101.0\n",
       "19          103.0\n",
       "20          104.0\n",
       "21          107.0\n",
       "22          108.0\n",
       "23          110.0\n",
       "24          117.0\n",
       "25          119.0\n",
       "26          126.0\n",
       "27          127.0\n",
       "28          133.0\n",
       "29          134.0\n",
       "           ...   \n",
       "60722    332661.0\n",
       "60723    332666.0\n",
       "60724    332667.0\n",
       "60725    332668.0\n",
       "60726    332682.0\n",
       "60727    332685.0\n",
       "60728    332686.0\n",
       "60729    332689.0\n",
       "60730    332690.0\n",
       "60731    332691.0\n",
       "60732    332693.0\n",
       "60733    332701.0\n",
       "60734    332706.0\n",
       "60735    332707.0\n",
       "60736    332710.0\n",
       "60737    332713.0\n",
       "60738    332715.0\n",
       "60739    332717.0\n",
       "60740    332718.0\n",
       "60741    332729.0\n",
       "60742    332730.0\n",
       "60743    332732.0\n",
       "60744    332742.0\n",
       "60745    332747.0\n",
       "60746    332749.0\n",
       "60747    332750.0\n",
       "60748    332751.0\n",
       "60749    332752.0\n",
       "60750    332765.0\n",
       "60751    332777.0\n",
       "Name: srch_id, Length: 60752, dtype: float64"
      ]
     },
     "execution_count": 7,
     "metadata": {},
     "output_type": "execute_result"
    }
   ],
   "source": [
    "# List of all randomly ranked searches\n",
    "df['srch_id'].where(df['random_bool']==1).unique().compute()"
   ]
  },
  {
   "cell_type": "code",
   "execution_count": 16,
   "metadata": {},
   "outputs": [
    {
     "data": {
      "text/html": [
       "<div>\n",
       "<style scoped>\n",
       "    .dataframe tbody tr th:only-of-type {\n",
       "        vertical-align: middle;\n",
       "    }\n",
       "\n",
       "    .dataframe tbody tr th {\n",
       "        vertical-align: top;\n",
       "    }\n",
       "\n",
       "    .dataframe thead th {\n",
       "        text-align: right;\n",
       "    }\n",
       "</style>\n",
       "<table border=\"1\" class=\"dataframe\">\n",
       "  <thead>\n",
       "    <tr style=\"text-align: right;\">\n",
       "      <th></th>\n",
       "      <th>srch_id</th>\n",
       "      <th>date_time</th>\n",
       "      <th>site_id</th>\n",
       "      <th>visitor_location_country_id</th>\n",
       "      <th>visitor_hist_starrating</th>\n",
       "      <th>visitor_hist_adr_usd</th>\n",
       "      <th>prop_country_id</th>\n",
       "      <th>prop_id</th>\n",
       "      <th>prop_starrating</th>\n",
       "      <th>prop_review_score</th>\n",
       "      <th>...</th>\n",
       "      <th>comp6_rate_percent_diff</th>\n",
       "      <th>comp7_rate</th>\n",
       "      <th>comp7_inv</th>\n",
       "      <th>comp7_rate_percent_diff</th>\n",
       "      <th>comp8_rate</th>\n",
       "      <th>comp8_inv</th>\n",
       "      <th>comp8_rate_percent_diff</th>\n",
       "      <th>click_bool</th>\n",
       "      <th>gross_bookings_usd</th>\n",
       "      <th>booking_bool</th>\n",
       "    </tr>\n",
       "  </thead>\n",
       "  <tbody>\n",
       "    <tr>\n",
       "      <th>0</th>\n",
       "      <td>1</td>\n",
       "      <td>2013-04-04 08:32:15</td>\n",
       "      <td>12</td>\n",
       "      <td>187</td>\n",
       "      <td>NaN</td>\n",
       "      <td>NaN</td>\n",
       "      <td>219</td>\n",
       "      <td>893</td>\n",
       "      <td>3</td>\n",
       "      <td>3.5</td>\n",
       "      <td>...</td>\n",
       "      <td>NaN</td>\n",
       "      <td>NaN</td>\n",
       "      <td>NaN</td>\n",
       "      <td>NaN</td>\n",
       "      <td>0.0</td>\n",
       "      <td>0.0</td>\n",
       "      <td>NaN</td>\n",
       "      <td>0</td>\n",
       "      <td>NaN</td>\n",
       "      <td>0</td>\n",
       "    </tr>\n",
       "    <tr>\n",
       "      <th>1</th>\n",
       "      <td>1</td>\n",
       "      <td>2013-04-04 08:32:15</td>\n",
       "      <td>12</td>\n",
       "      <td>187</td>\n",
       "      <td>NaN</td>\n",
       "      <td>NaN</td>\n",
       "      <td>219</td>\n",
       "      <td>10404</td>\n",
       "      <td>4</td>\n",
       "      <td>4.0</td>\n",
       "      <td>...</td>\n",
       "      <td>NaN</td>\n",
       "      <td>NaN</td>\n",
       "      <td>NaN</td>\n",
       "      <td>NaN</td>\n",
       "      <td>0.0</td>\n",
       "      <td>0.0</td>\n",
       "      <td>NaN</td>\n",
       "      <td>0</td>\n",
       "      <td>NaN</td>\n",
       "      <td>0</td>\n",
       "    </tr>\n",
       "    <tr>\n",
       "      <th>2</th>\n",
       "      <td>1</td>\n",
       "      <td>2013-04-04 08:32:15</td>\n",
       "      <td>12</td>\n",
       "      <td>187</td>\n",
       "      <td>NaN</td>\n",
       "      <td>NaN</td>\n",
       "      <td>219</td>\n",
       "      <td>21315</td>\n",
       "      <td>3</td>\n",
       "      <td>4.5</td>\n",
       "      <td>...</td>\n",
       "      <td>NaN</td>\n",
       "      <td>NaN</td>\n",
       "      <td>NaN</td>\n",
       "      <td>NaN</td>\n",
       "      <td>0.0</td>\n",
       "      <td>0.0</td>\n",
       "      <td>NaN</td>\n",
       "      <td>0</td>\n",
       "      <td>NaN</td>\n",
       "      <td>0</td>\n",
       "    </tr>\n",
       "    <tr>\n",
       "      <th>3</th>\n",
       "      <td>1</td>\n",
       "      <td>2013-04-04 08:32:15</td>\n",
       "      <td>12</td>\n",
       "      <td>187</td>\n",
       "      <td>NaN</td>\n",
       "      <td>NaN</td>\n",
       "      <td>219</td>\n",
       "      <td>27348</td>\n",
       "      <td>2</td>\n",
       "      <td>4.0</td>\n",
       "      <td>...</td>\n",
       "      <td>NaN</td>\n",
       "      <td>NaN</td>\n",
       "      <td>NaN</td>\n",
       "      <td>NaN</td>\n",
       "      <td>-1.0</td>\n",
       "      <td>0.0</td>\n",
       "      <td>5.0</td>\n",
       "      <td>0</td>\n",
       "      <td>NaN</td>\n",
       "      <td>0</td>\n",
       "    </tr>\n",
       "    <tr>\n",
       "      <th>4</th>\n",
       "      <td>1</td>\n",
       "      <td>2013-04-04 08:32:15</td>\n",
       "      <td>12</td>\n",
       "      <td>187</td>\n",
       "      <td>NaN</td>\n",
       "      <td>NaN</td>\n",
       "      <td>219</td>\n",
       "      <td>29604</td>\n",
       "      <td>4</td>\n",
       "      <td>3.5</td>\n",
       "      <td>...</td>\n",
       "      <td>NaN</td>\n",
       "      <td>NaN</td>\n",
       "      <td>NaN</td>\n",
       "      <td>NaN</td>\n",
       "      <td>0.0</td>\n",
       "      <td>0.0</td>\n",
       "      <td>NaN</td>\n",
       "      <td>0</td>\n",
       "      <td>NaN</td>\n",
       "      <td>0</td>\n",
       "    </tr>\n",
       "  </tbody>\n",
       "</table>\n",
       "<p>5 rows × 54 columns</p>\n",
       "</div>"
      ],
      "text/plain": [
       "   srch_id            date_time  site_id  visitor_location_country_id  \\\n",
       "0        1  2013-04-04 08:32:15       12                          187   \n",
       "1        1  2013-04-04 08:32:15       12                          187   \n",
       "2        1  2013-04-04 08:32:15       12                          187   \n",
       "3        1  2013-04-04 08:32:15       12                          187   \n",
       "4        1  2013-04-04 08:32:15       12                          187   \n",
       "\n",
       "   visitor_hist_starrating  visitor_hist_adr_usd  prop_country_id  prop_id  \\\n",
       "0                      NaN                   NaN              219      893   \n",
       "1                      NaN                   NaN              219    10404   \n",
       "2                      NaN                   NaN              219    21315   \n",
       "3                      NaN                   NaN              219    27348   \n",
       "4                      NaN                   NaN              219    29604   \n",
       "\n",
       "   prop_starrating  prop_review_score      ...       comp6_rate_percent_diff  \\\n",
       "0                3                3.5      ...                           NaN   \n",
       "1                4                4.0      ...                           NaN   \n",
       "2                3                4.5      ...                           NaN   \n",
       "3                2                4.0      ...                           NaN   \n",
       "4                4                3.5      ...                           NaN   \n",
       "\n",
       "   comp7_rate  comp7_inv  comp7_rate_percent_diff  comp8_rate  comp8_inv  \\\n",
       "0         NaN        NaN                      NaN         0.0        0.0   \n",
       "1         NaN        NaN                      NaN         0.0        0.0   \n",
       "2         NaN        NaN                      NaN         0.0        0.0   \n",
       "3         NaN        NaN                      NaN        -1.0        0.0   \n",
       "4         NaN        NaN                      NaN         0.0        0.0   \n",
       "\n",
       "   comp8_rate_percent_diff  click_bool  gross_bookings_usd  booking_bool  \n",
       "0                      NaN           0                 NaN             0  \n",
       "1                      NaN           0                 NaN             0  \n",
       "2                      NaN           0                 NaN             0  \n",
       "3                      5.0           0                 NaN             0  \n",
       "4                      NaN           0                 NaN             0  \n",
       "\n",
       "[5 rows x 54 columns]"
      ]
     },
     "execution_count": 16,
     "metadata": {},
     "output_type": "execute_result"
    }
   ],
   "source": [
    "df.head()"
   ]
  },
  {
   "cell_type": "code",
   "execution_count": 21,
   "metadata": {},
   "outputs": [],
   "source": [
    "# count missing values\n",
    "nulls = df.isnull().sum(axis=0).compute()"
   ]
  },
  {
   "cell_type": "code",
   "execution_count": 29,
   "metadata": {},
   "outputs": [],
   "source": [
    "sparsity = nulls.sort_values()/length"
   ]
  },
  {
   "cell_type": "code",
   "execution_count": 74,
   "metadata": {},
   "outputs": [
    {
     "data": {
      "image/png": "[encoded data removed]",
      "text/plain": [
       "<Figure size 1080x504 with 1 Axes>"
      ]
     },
     "metadata": {},
     "output_type": "display_data"
    }
   ],
   "source": [
    "fig, ax = plt.subplots(figsize=[15, 7])\n",
    "ax.bar(sparsity.index, sparsity.values)\n",
    "ax.set_axisbelow(True)\n",
    "ax.grid(axis='y', ls='--')\n",
    "ax.set_xticklabels(sparsity.index, rotation=45, fontdict={'ha': 'right', 'va': 'baseline'})\n",
    "ax.set_yticklabels(['{:.0%}'.format(i) for i in np.linspace(0, 1, 6)])\n",
    "ax.set_ylim(0, 1)\n",
    "plt.show()"
   ]
  },
  {
   "cell_type": "code",
   "execution_count": 25,
   "metadata": {},
   "outputs": [],
   "source": [
    "# test set sparsity\n",
    "\n",
    "nulls_test = df_test.isnull().sum(axis=0).compute()\n",
    "len_test = len(df_test)\n",
    "sparsity_test = nulls_test.sort_values()/len_test"
   ]
  },
  {
   "cell_type": "code",
   "execution_count": 26,
   "metadata": {},
   "outputs": [
    {
     "data": {
      "image/png": "[encoded data removed]",
      "text/plain": [
       "<Figure size 1080x504 with 1 Axes>"
      ]
     },
     "metadata": {},
     "output_type": "display_data"
    }
   ],
   "source": [
    "fig, ax = plt.subplots(figsize=[15, 7])\n",
    "ax.bar(sparsity_test.index, sparsity_test.values)\n",
    "ax.set_axisbelow(True)\n",
    "ax.grid(axis='y', ls='--')\n",
    "ax.set_xticklabels(sparsity_test.index, rotation=45, fontdict={'ha': 'right', 'va': 'baseline'})\n",
    "ax.set_yticklabels(['{:.0%}'.format(i) for i in np.linspace(0, 1, 6)])\n",
    "ax.set_ylim(0, 1)\n",
    "plt.show()"
   ]
  },
  {
   "cell_type": "code",
   "execution_count": 88,
   "metadata": {},
   "outputs": [],
   "source": [
    "# reduce competitor features\n",
    "# take min of inv and rates?\n",
    "# set nulls to 0s\n",
    "\n",
    "comp_attributes = ['comp{}_rate'.format(i) for i in range(1, 9)] + ['comp{}_inv'.format(i) for i in range(1, 9)]\n",
    "comp_percent_diffs = ['comp{}_rate_percent_diff'.format(i) for i in range(1, 9)]\n",
    "# print(comp_attributes)\n",
    "# take minimum value \n",
    "# df[comp_attributes]"
   ]
  },
  {
   "cell_type": "code",
   "execution_count": null,
   "metadata": {},
   "outputs": [],
   "source": []
  },
  {
   "cell_type": "code",
   "execution_count": 17,
   "metadata": {},
   "outputs": [
    {
     "data": {
      "image/png": "[encoded data removed]",
      "text/plain": [
       "<Figure size 1080x360 with 1 Axes>"
      ]
     },
     "metadata": {},
     "output_type": "display_data"
    }
   ],
   "source": [
    "# plot hist of positions of clicked hotels \n",
    "pos_clicked = df['position'].where(df['click_bool']==1).compute()\n",
    "pos_booked = df['position'].where(df['booking_bool']==1).compute()\n",
    "pos_clicked = pos_clicked.value_counts(normalize=True)\n",
    "pos_clicked.index = pos_clicked.index.map(int)\n",
    "pos_booked = pos_booked.value_counts(normalize=True)\n",
    "pos_booked.index = pos_booked.index.map(int)\n",
    "\n",
    "fig, ax = plt.subplots(figsize=[15,5])\n",
    "x = np.arange(1, 41)\n",
    "ax.bar(x-0.2, pos_clicked[x], width=0.4, label='Clicked')\n",
    "ax.bar(x+0.2, pos_booked[x], width=0.4, label='Booked')\n",
    "ax.set_xticks(x)\n",
    "ax.set_yticklabels(['{:.1%}'.format(i) for i in np.linspace(0, 0.2, 9)])\n",
    "\n",
    "plt.legend()\n",
    "plt.show()"
   ]
  },
  {
   "cell_type": "code",
   "execution_count": 19,
   "metadata": {},
   "outputs": [
    {
     "name": "stderr",
     "output_type": "stream",
     "text": [
      "/home/walter/.local/lib/python3.5/site-packages/pandas/core/series.py:696: FutureWarning: \n",
      "Passing list-likes to .loc or [] with any missing label will raise\n",
      "KeyError in the future, you can use .reindex() as an alternative.\n",
      "\n",
      "See the documentation here:\n",
      "http://pandas.pydata.org/pandas-docs/stable/indexing.html#deprecate-loc-reindex-listlike\n",
      "  return self.loc[key]\n"
     ]
    },
    {
     "data": {
      "image/png": "[encoded data removed]",
      "text/plain": [
       "<Figure size 1080x360 with 1 Axes>"
      ]
     },
     "metadata": {},
     "output_type": "display_data"
    }
   ],
   "source": [
    "# plot hist of positions of booked hotels where ranking was random vs. ordered\n",
    "pos_random = df['position'].where(df['booking_bool']==1).where(df['random_bool']==1).compute()\n",
    "pos_ordered = df['position'].where(df['booking_bool']==1).where(df['random_bool']==0).compute()\n",
    "pos_random = pos_random.value_counts(normalize=True)\n",
    "pos_random.index = pos_random.index.map(int)\n",
    "pos_ordered = pos_ordered.value_counts(normalize=True)\n",
    "pos_ordered.index = pos_ordered.index.map(int)\n",
    "\n",
    "fig, ax = plt.subplots(figsize=[15,5])\n",
    "x = np.arange(1, 41)\n",
    "ax.bar(x-0.2, pos_random[x], width=0.4, label='Random')\n",
    "ax.bar(x+0.2, pos_ordered[x], width=0.4, label='Ordered')\n",
    "ax.set_xticks(x)\n",
    "ax.set_yticklabels(['{:.1%}'.format(i) for i in np.linspace(0, 0.2, 9)])\n",
    "\n",
    "plt.legend()\n",
    "plt.show()"
   ]
  },
  {
   "cell_type": "code",
   "execution_count": 6,
   "metadata": {},
   "outputs": [],
   "source": [
    "clicked_properties = df['prop_id'].where(df['click_bool']==1).compute()\n",
    "clicked_properties = clicked_properties.value_counts()\n",
    "booking_properties = df['prop_id'].where(df['booking_bool']==1).compute()\n",
    "booking_properties = booking_properties.value_counts()\n",
    "# print(clicked_properties)\n",
    "# print(booking_properties)"
   ]
  },
  {
   "cell_type": "code",
   "execution_count": 11,
   "metadata": {},
   "outputs": [],
   "source": [
    "# h, bins = df.plot.histogram(clicked_properties, bins=100, range=[0, 250])"
   ]
  },
  {
   "cell_type": "code",
   "execution_count": 14,
   "metadata": {},
   "outputs": [
    {
     "data": {
      "text/plain": [
       "count    4.958347e+06\n",
       "mean     2.872589e+00\n",
       "std      1.531011e+00\n",
       "min      0.000000e+00\n",
       "25%      1.790000e+00\n",
       "50%      2.830000e+00\n",
       "75%      4.060000e+00\n",
       "max      6.980000e+00\n",
       "dtype: float64"
      ]
     },
     "execution_count": 14,
     "metadata": {},
     "output_type": "execute_result"
    }
   ],
   "source": [
    "df['prop_location_score1'].describe().compute()"
   ]
  },
  {
   "cell_type": "code",
   "execution_count": 15,
   "metadata": {},
   "outputs": [
    {
     "data": {
      "text/plain": [
       "count    3.867999e+06\n",
       "mean     1.303852e-01\n",
       "std      1.594634e-01\n",
       "min      0.000000e+00\n",
       "25%      1.960000e-02\n",
       "50%      7.080000e-02\n",
       "75%      1.846000e-01\n",
       "max      1.000000e+00\n",
       "dtype: float64"
      ]
     },
     "execution_count": 15,
     "metadata": {},
     "output_type": "execute_result"
    }
   ],
   "source": [
    "df['prop_location_score2'].describe().compute()"
   ]
  },
  {
   "cell_type": "code",
   "execution_count": 24,
   "metadata": {},
   "outputs": [],
   "source": [
    "df.describe().compute().to_csv('./training_summaries')"
   ]
  },
  {
   "cell_type": "markdown",
   "metadata": {},
   "source": [
    "### Fix split Srch_IDs"
   ]
  },
  {
   "cell_type": "code",
   "execution_count": 4,
   "metadata": {
    "scrolled": true
   },
   "outputs": [
    {
     "name": "stderr",
     "output_type": "stream",
     "text": [
      "  5%|▌         | 1/19 [00:01<00:29,  1.62s/it]"
     ]
    },
    {
     "name": "stdout",
     "output_type": "stream",
     "text": [
      "0 and 1 split perfectly :)\n"
     ]
    },
    {
     "name": "stderr",
     "output_type": "stream",
     "text": [
      "\r",
      " 11%|█         | 2/19 [00:03<00:27,  1.60s/it]"
     ]
    },
    {
     "name": "stdout",
     "output_type": "stream",
     "text": [
      "1 and 2 split perfectly :)\n"
     ]
    },
    {
     "name": "stderr",
     "output_type": "stream",
     "text": [
      "\r",
      " 16%|█▌        | 3/19 [00:04<00:25,  1.61s/it]"
     ]
    },
    {
     "name": "stdout",
     "output_type": "stream",
     "text": [
      "2 and 3 split perfectly :)\n"
     ]
    },
    {
     "name": "stderr",
     "output_type": "stream",
     "text": [
      "\r",
      " 21%|██        | 4/19 [00:06<00:25,  1.68s/it]"
     ]
    },
    {
     "name": "stdout",
     "output_type": "stream",
     "text": [
      "3 and 4 split perfectly :)\n"
     ]
    },
    {
     "name": "stderr",
     "output_type": "stream",
     "text": [
      "\r",
      " 26%|██▋       | 5/19 [00:08<00:23,  1.69s/it]"
     ]
    },
    {
     "name": "stdout",
     "output_type": "stream",
     "text": [
      "4 and 5 split perfectly :)\n"
     ]
    },
    {
     "name": "stderr",
     "output_type": "stream",
     "text": [
      "\r",
      " 32%|███▏      | 6/19 [00:10<00:22,  1.70s/it]"
     ]
    },
    {
     "name": "stdout",
     "output_type": "stream",
     "text": [
      "5 and 6 split perfectly :)\n"
     ]
    },
    {
     "name": "stderr",
     "output_type": "stream",
     "text": [
      "\r",
      " 37%|███▋      | 7/19 [00:12<00:20,  1.73s/it]"
     ]
    },
    {
     "name": "stdout",
     "output_type": "stream",
     "text": [
      "6 and 7 split perfectly :)\n"
     ]
    },
    {
     "name": "stderr",
     "output_type": "stream",
     "text": [
      "\r",
      " 42%|████▏     | 8/19 [00:14<00:19,  1.76s/it]"
     ]
    },
    {
     "name": "stdout",
     "output_type": "stream",
     "text": [
      "7 and 8 split perfectly :)\n"
     ]
    },
    {
     "name": "stderr",
     "output_type": "stream",
     "text": [
      "\r",
      " 47%|████▋     | 9/19 [00:15<00:17,  1.74s/it]"
     ]
    },
    {
     "name": "stdout",
     "output_type": "stream",
     "text": [
      "8 and 9 split perfectly :)\n"
     ]
    },
    {
     "name": "stderr",
     "output_type": "stream",
     "text": [
      "\r",
      " 53%|█████▎    | 10/19 [00:17<00:15,  1.75s/it]"
     ]
    },
    {
     "name": "stdout",
     "output_type": "stream",
     "text": [
      "9 and 10 split perfectly :)\n"
     ]
    },
    {
     "name": "stderr",
     "output_type": "stream",
     "text": [
      "\r",
      " 58%|█████▊    | 11/19 [00:19<00:13,  1.75s/it]"
     ]
    },
    {
     "name": "stdout",
     "output_type": "stream",
     "text": [
      "10 and 11 split perfectly :)\n"
     ]
    },
    {
     "name": "stderr",
     "output_type": "stream",
     "text": [
      "\r",
      " 63%|██████▎   | 12/19 [00:20<00:12,  1.73s/it]"
     ]
    },
    {
     "name": "stdout",
     "output_type": "stream",
     "text": [
      "11 and 12 split perfectly :)\n"
     ]
    },
    {
     "name": "stderr",
     "output_type": "stream",
     "text": [
      "\r",
      " 68%|██████▊   | 13/19 [00:22<00:10,  1.76s/it]"
     ]
    },
    {
     "name": "stdout",
     "output_type": "stream",
     "text": [
      "12 and 13 split perfectly :)\n"
     ]
    },
    {
     "name": "stderr",
     "output_type": "stream",
     "text": [
      "\r",
      " 74%|███████▎  | 14/19 [00:25<00:08,  1.80s/it]"
     ]
    },
    {
     "name": "stdout",
     "output_type": "stream",
     "text": [
      "13 and 14 split perfectly :)\n"
     ]
    },
    {
     "name": "stderr",
     "output_type": "stream",
     "text": [
      "\r",
      " 79%|███████▉  | 15/19 [00:27<00:07,  1.80s/it]"
     ]
    },
    {
     "name": "stdout",
     "output_type": "stream",
     "text": [
      "14 and 15 split perfectly :)\n"
     ]
    },
    {
     "name": "stderr",
     "output_type": "stream",
     "text": [
      "\r",
      " 84%|████████▍ | 16/19 [00:28<00:05,  1.80s/it]"
     ]
    },
    {
     "name": "stdout",
     "output_type": "stream",
     "text": [
      "15 and 16 split perfectly :)\n"
     ]
    },
    {
     "name": "stderr",
     "output_type": "stream",
     "text": [
      "\r",
      " 89%|████████▉ | 17/19 [00:30<00:03,  1.80s/it]"
     ]
    },
    {
     "name": "stdout",
     "output_type": "stream",
     "text": [
      "16 and 17 split perfectly :)\n"
     ]
    },
    {
     "name": "stderr",
     "output_type": "stream",
     "text": [
      "\r",
      " 95%|█████████▍| 18/19 [00:32<00:01,  1.81s/it]"
     ]
    },
    {
     "name": "stdout",
     "output_type": "stream",
     "text": [
      "17 and 18 split perfectly :)\n"
     ]
    },
    {
     "name": "stderr",
     "output_type": "stream",
     "text": [
      "\r",
      "100%|██████████| 19/19 [00:34<00:00,  1.80s/it]"
     ]
    },
    {
     "name": "stdout",
     "output_type": "stream",
     "text": [
      "18 and 19 split perfectly :)\n"
     ]
    },
    {
     "name": "stderr",
     "output_type": "stream",
     "text": [
      "\n"
     ]
    }
   ],
   "source": [
    "# some searches split over multiple files, fixes this\n",
    "data1 = pd.read_csv('../../ExpediaData/train_split/train_data_00.csv', index_col=0)\n",
    "for i in trange(19):\n",
    "    data2 = pd.read_csv('../../ExpediaData/train_split/train_data_{:02d}.csv'.format(i+1), index_col=0)\n",
    "    \n",
    "    split_ID = data1['srch_id'].iloc[-1]\n",
    "    \n",
    "    if data2['srch_id'].iloc[0] != split_ID:\n",
    "        print('{} and {} split perfectly :)'.format(i, i+1))\n",
    "        data1.to_csv('../../ExpediaData/train_split_cleaned/train_data_{:02d}.csv'.format(i))\n",
    "        data1 = data2\n",
    "        continue\n",
    "    \n",
    "    # move split_ID for 2 to 1\n",
    "    split_data_indexes = data2.loc[data2['srch_id'] == split_ID].index\n",
    "    \n",
    "    data1 = data1.append(data2.loc[split_data_indexes])\n",
    "    data2 = data2.drop(split_data_indexes)\n",
    "    \n",
    "    # save data1\n",
    "    data1.to_csv('../../ExpediaData/train_split_cleaned/train_data_{:02d}.csv'.format(i))\n",
    "    \n",
    "    data1 = data2\n",
    "    \n",
    "# finally save the last data2\n",
    "data2.to_csv('../../ExpediaData/train_split_cleaned/train_data_{:02d}.csv'.format(19))"
   ]
  },
  {
   "cell_type": "code",
   "execution_count": null,
   "metadata": {
    "scrolled": true
   },
   "outputs": [],
   "source": []
  },
  {
   "cell_type": "code",
   "execution_count": null,
   "metadata": {},
   "outputs": [],
   "source": []
  },
  {
   "cell_type": "markdown",
   "metadata": {},
   "source": [
    "### Data Clean-Up"
   ]
  },
  {
   "cell_type": "code",
   "execution_count": 138,
   "metadata": {},
   "outputs": [
    {
     "name": "stderr",
     "output_type": "stream",
     "text": [
      "\n",
      "  0%|          | 0/20 [00:00<?, ?it/s]\u001b[A/home/arran/miniconda3/lib/python3.6/site-packages/ipykernel_launcher.py:11: RuntimeWarning: All-NaN axis encountered\n",
      "  # This is added back by InteractiveShellApp.init_path()\n",
      "/home/arran/miniconda3/lib/python3.6/site-packages/pandas/core/indexing.py:194: SettingWithCopyWarning: \n",
      "A value is trying to be set on a copy of a slice from a DataFrame\n",
      "\n",
      "See the caveats in the documentation: http://pandas.pydata.org/pandas-docs/stable/indexing.html#indexing-view-versus-copy\n",
      "  self._setitem_with_indexer(indexer, value)\n",
      "\n",
      "100%|██████████| 20/20 [20:36<00:00, 61.80s/it]\n"
     ]
    }
   ],
   "source": [
    "comp_attributes = ['comp{}_rate'.format(i) for i in range(1, 9)] + ['comp{}_inv'.format(i) for i in range(1, 9)]\n",
    "comp_percent_diffs = ['comp{}_rate_percent_diff'.format(i) for i in range(1, 9)]\n",
    "\n",
    "# iterate over the split data sets\n",
    "for i in trange(0, 20):\n",
    "    # load data set\n",
    "    data = pd.read_csv('../../ExpediaData/train_split_cleaned/train_data_{:02d}.csv'.format(i))\n",
    "    data.drop(columns=['Unnamed: 0'], inplace=True)\n",
    "    \n",
    "    # Summarise competitor attributes and drop them\n",
    "    data['competitors'] = np.nanmin(data[comp_attributes], axis=1)\n",
    "    data['competitors'] = data['competitors'].fillna(0)\n",
    "    data.drop(comp_attributes+comp_percent_diffs, axis=1, inplace=True)\n",
    "    \n",
    "    # Adjust affinity score attribute\n",
    "    data['srch_query_affinity_score'] = np.exp(data['srch_query_affinity_score']).fillna(0)\n",
    "    \n",
    "    # Add column 'prop_reviewed'\n",
    "    data['prop_reviewed'] = True\n",
    "    data['prop_reviewed'].loc[(data['prop_review_score'] == 0)] = False\n",
    "    data['prop_reviewed'].loc[(data['prop_review_score'].isnull())] = False\n",
    "    \n",
    "    # now to iterate over every search ID and fill in more missing data\n",
    "    s_ids = data['srch_id'].unique()\n",
    "    \n",
    "    for s_id in s_ids:\n",
    "        # get block of each search\n",
    "        search = data.loc[data['srch_id'] == s_id]\n",
    "        s_idx = search.index\n",
    "        \n",
    "        # clean up prop_location_score2\n",
    "        avg_pls2 = search['prop_location_score2'].mean()\n",
    "        \n",
    "        if isnan(avg_pls2):\n",
    "            avg_pls2 = 0.5\n",
    "        \n",
    "        data.loc[s_idx, 'prop_location_score2'] = data.loc[s_idx, 'prop_location_score2'].fillna(avg_pls2)\n",
    "        \n",
    "        \n",
    "    # finally, drop unused columns\n",
    "    data.drop(columns=['gross_bookings_usd'], inplace=True)\n",
    "        \n",
    "    # save cleaned csv\n",
    "    data.to_csv('../../ExpediaData/train_split_cleaned2/train_data_{:02d}.csv'.format(i))\n"
   ]
  },
  {
   "cell_type": "code",
   "execution_count": 33,
   "metadata": {
    "scrolled": true
   },
   "outputs": [
    {
     "name": "stdout",
     "output_type": "stream",
     "text": [
      "Search ID 1  |  0/10104\n",
      "Search ID 4  |  1/10104\n",
      "Search ID 6  |  2/10104\n",
      "Search ID 8  |  3/10104\n",
      "Search ID 11  |  4/10104\n",
      "Search ID 12  |  5/10104\n",
      "Search ID 17  |  6/10104\n",
      "Search ID 21  |  7/10104\n",
      "Search ID 25  |  8/10104\n",
      "Search ID 28  |  9/10104\n",
      "Search ID 29  |  10/10104\n",
      "Search ID 30  |  11/10104\n",
      "Search ID 31  |  12/10104\n",
      "Search ID 36  |  13/10104\n",
      "Search ID 39  |  14/10104\n",
      "Search ID 40  |  15/10104\n",
      "Search ID 42  |  16/10104\n",
      "Search ID 43  |  17/10104\n",
      "Search ID 44  |  18/10104\n",
      "Search ID 45  |  19/10104\n",
      "Search ID 46  |  20/10104\n",
      "Search ID 47  |  21/10104\n",
      "Search ID 49  |  22/10104\n",
      "Search ID 52  |  23/10104\n",
      "Search ID 53  |  24/10104\n",
      "Search ID 56  |  25/10104\n",
      "Search ID 57  |  26/10104\n",
      "Search ID 60  |  27/10104\n",
      "Search ID 61  |  28/10104\n",
      "Search ID 63  |  29/10104\n",
      "Search ID 64  |  30/10104\n",
      "Search ID 65  |  31/10104\n",
      "Search ID 66  |  32/10104\n",
      "Search ID 67  |  33/10104\n",
      "Search ID 71  |  34/10104\n",
      "Search ID 72  |  35/10104\n",
      "Search ID 73  |  36/10104\n",
      "Search ID 74  |  37/10104\n",
      "Search ID 75  |  38/10104\n",
      "Search ID 78  |  39/10104\n",
      "Search ID 79  |  40/10104\n",
      "Search ID 80  |  41/10104\n",
      "Search ID 81  |  42/10104\n",
      "Search ID 82  |  43/10104\n",
      "Search ID 83  |  44/10104\n",
      "Search ID 84  |  45/10104\n",
      "Search ID 85  |  46/10104\n",
      "Search ID 87  |  47/10104\n",
      "Search ID 90  |  48/10104\n",
      "Search ID 93  |  49/10104\n",
      "Search ID 94  |  50/10104\n",
      "Search ID 96  |  51/10104\n",
      "Search ID 97  |  52/10104\n",
      "Search ID 99  |  53/10104\n",
      "Search ID 101  |  54/10104\n",
      "Search ID 102  |  55/10104\n",
      "Search ID 103  |  56/10104\n",
      "Search ID 104  |  57/10104\n",
      "Search ID 106  |  58/10104\n",
      "Search ID 107  |  59/10104\n",
      "Search ID 108  |  60/10104\n",
      "Search ID 109  |  61/10104\n",
      "Search ID 110  |  62/10104\n",
      "Search ID 111  |  63/10104\n",
      "Search ID 112  |  64/10104\n",
      "Search ID 113  |  65/10104\n",
      "Search ID 114  |  66/10104\n",
      "Search ID 115  |  67/10104\n",
      "Search ID 116  |  68/10104\n",
      "Search ID 117  |  69/10104\n",
      "Search ID 118  |  70/10104\n",
      "Search ID 119  |  71/10104\n",
      "Search ID 120  |  72/10104\n",
      "Search ID 123  |  73/10104\n",
      "Search ID 124  |  74/10104\n",
      "Search ID 126  |  75/10104\n",
      "Search ID 127  |  76/10104\n",
      "Search ID 128  |  77/10104\n",
      "Search ID 129  |  78/10104\n",
      "Search ID 131  |  79/10104\n",
      "Search ID 133  |  80/10104\n",
      "Search ID 134  |  81/10104\n",
      "Search ID 135  |  82/10104\n",
      "Search ID 136  |  83/10104\n",
      "Search ID 138  |  84/10104\n",
      "Search ID 139  |  85/10104\n",
      "Search ID 140  |  86/10104\n",
      "Search ID 143  |  87/10104\n",
      "Search ID 144  |  88/10104\n",
      "Search ID 145  |  89/10104\n",
      "Search ID 146  |  90/10104\n",
      "Search ID 147  |  91/10104\n",
      "Search ID 148  |  92/10104\n",
      "Search ID 151  |  93/10104\n",
      "Search ID 152  |  94/10104\n",
      "Search ID 157  |  95/10104\n",
      "Search ID 158  |  96/10104\n",
      "Search ID 159  |  97/10104\n",
      "Search ID 160  |  98/10104\n",
      "Search ID 161  |  99/10104\n",
      "Search ID 162  |  100/10104\n",
      "Search ID 163  |  101/10104\n",
      "Search ID 165  |  102/10104\n",
      "Search ID 168  |  103/10104\n",
      "Search ID 170  |  104/10104\n",
      "Search ID 174  |  105/10104\n",
      "Search ID 175  |  106/10104\n",
      "Search ID 176  |  107/10104\n",
      "Search ID 177  |  108/10104\n",
      "Search ID 178  |  109/10104\n",
      "Search ID 179  |  110/10104\n",
      "Search ID 180  |  111/10104\n",
      "Search ID 181  |  112/10104\n",
      "Search ID 183  |  113/10104\n",
      "Search ID 184  |  114/10104\n",
      "Search ID 185  |  115/10104\n",
      "Search ID 187  |  116/10104\n",
      "Search ID 188  |  117/10104\n",
      "Search ID 190  |  118/10104\n",
      "Search ID 191  |  119/10104\n",
      "Search ID 192  |  120/10104\n",
      "Search ID 193  |  121/10104\n",
      "Search ID 194  |  122/10104\n",
      "Search ID 195  |  123/10104\n",
      "Search ID 196  |  124/10104\n",
      "Search ID 198  |  125/10104\n",
      "Search ID 199  |  126/10104\n",
      "Search ID 203  |  127/10104\n",
      "Search ID 204  |  128/10104\n",
      "Search ID 207  |  129/10104\n",
      "Search ID 213  |  130/10104\n",
      "Search ID 218  |  131/10104\n",
      "Search ID 220  |  132/10104\n",
      "Search ID 221  |  133/10104\n",
      "Search ID 224  |  134/10104\n",
      "Search ID 225  |  135/10104\n",
      "Search ID 226  |  136/10104\n",
      "Search ID 229  |  137/10104\n",
      "Search ID 230  |  138/10104\n",
      "Search ID 231  |  139/10104\n",
      "Search ID 235  |  140/10104\n",
      "Search ID 236  |  141/10104\n",
      "Search ID 237  |  142/10104\n",
      "Search ID 240  |  143/10104\n",
      "Search ID 241  |  144/10104\n",
      "Search ID 242  |  145/10104\n",
      "Search ID 246  |  146/10104\n",
      "Search ID 247  |  147/10104\n",
      "Search ID 248  |  148/10104\n",
      "Search ID 252  |  149/10104\n",
      "Search ID 253  |  150/10104\n",
      "Search ID 257  |  151/10104\n",
      "Search ID 259  |  152/10104\n",
      "Search ID 262  |  153/10104\n",
      "Search ID 264  |  154/10104\n",
      "Search ID 265  |  155/10104\n",
      "Search ID 267  |  156/10104\n",
      "Search ID 268  |  157/10104\n",
      "Search ID 271  |  158/10104\n",
      "Search ID 275  |  159/10104\n",
      "Search ID 276  |  160/10104\n",
      "Search ID 277  |  161/10104\n",
      "Search ID 282  |  162/10104\n",
      "Search ID 288  |  163/10104\n",
      "Search ID 290  |  164/10104\n",
      "Search ID 292  |  165/10104\n",
      "Search ID 293  |  166/10104\n",
      "Search ID 294  |  167/10104\n",
      "Search ID 295  |  168/10104\n",
      "Search ID 296  |  169/10104\n",
      "Search ID 297  |  170/10104\n",
      "Search ID 299  |  171/10104\n",
      "Search ID 300  |  172/10104\n",
      "Search ID 307  |  173/10104\n",
      "Search ID 308  |  174/10104\n",
      "Search ID 309  |  175/10104\n",
      "Search ID 310  |  176/10104\n",
      "Search ID 312  |  177/10104\n",
      "Search ID 313  |  178/10104\n",
      "Search ID 317  |  179/10104\n",
      "Search ID 320  |  180/10104\n",
      "Search ID 321  |  181/10104\n",
      "Search ID 322  |  182/10104\n",
      "Search ID 325  |  183/10104\n",
      "Search ID 326  |  184/10104\n",
      "Search ID 328  |  185/10104\n",
      "Search ID 329  |  186/10104\n",
      "Search ID 331  |  187/10104\n",
      "Search ID 333  |  188/10104\n",
      "Search ID 335  |  189/10104\n",
      "Search ID 338  |  190/10104\n",
      "Search ID 339  |  191/10104\n",
      "Search ID 342  |  192/10104\n",
      "Search ID 344  |  193/10104\n",
      "Search ID 345  |  194/10104\n",
      "Search ID 346  |  195/10104\n",
      "Search ID 348  |  196/10104\n",
      "Search ID 350  |  197/10104\n",
      "Search ID 353  |  198/10104\n",
      "Search ID 355  |  199/10104\n",
      "Search ID 356  |  200/10104\n",
      "Search ID 357  |  201/10104\n",
      "Search ID 359  |  202/10104\n",
      "Search ID 360  |  203/10104\n",
      "Search ID 361  |  204/10104\n",
      "Search ID 362  |  205/10104\n",
      "Search ID 365  |  206/10104\n",
      "Search ID 366  |  207/10104\n",
      "Search ID 367  |  208/10104\n",
      "Search ID 372  |  209/10104\n",
      "Search ID 374  |  210/10104\n",
      "Search ID 375  |  211/10104\n",
      "Search ID 376  |  212/10104\n",
      "Search ID 377  |  213/10104\n",
      "Search ID 379  |  214/10104\n",
      "Search ID 382  |  215/10104\n",
      "Search ID 383  |  216/10104\n",
      "Search ID 384  |  217/10104\n",
      "Search ID 386  |  218/10104\n",
      "Search ID 387  |  219/10104\n",
      "Search ID 390  |  220/10104\n",
      "Search ID 391  |  221/10104\n",
      "Search ID 392  |  222/10104\n",
      "Search ID 394  |  223/10104\n",
      "Search ID 395  |  224/10104\n",
      "Search ID 396  |  225/10104\n",
      "Search ID 398  |  226/10104\n",
      "Search ID 399  |  227/10104\n",
      "Search ID 400  |  228/10104\n",
      "Search ID 401  |  229/10104\n",
      "Search ID 405  |  230/10104\n",
      "Search ID 406  |  231/10104\n",
      "Search ID 408  |  232/10104\n",
      "Search ID 409  |  233/10104\n",
      "Search ID 410  |  234/10104\n",
      "Search ID 411  |  235/10104\n",
      "Search ID 412  |  236/10104\n",
      "Search ID 413  |  237/10104\n",
      "Search ID 416  |  238/10104\n",
      "Search ID 418  |  239/10104\n",
      "Search ID 419  |  240/10104\n",
      "Search ID 423  |  241/10104\n",
      "Search ID 424  |  242/10104\n",
      "Search ID 425  |  243/10104\n",
      "Search ID 427  |  244/10104\n",
      "Search ID 428  |  245/10104\n",
      "Search ID 429  |  246/10104\n",
      "Search ID 431  |  247/10104\n",
      "Search ID 432  |  248/10104\n",
      "Search ID 433  |  249/10104\n",
      "Search ID 434  |  250/10104\n",
      "Search ID 435  |  251/10104\n",
      "Search ID 436  |  252/10104\n",
      "Search ID 438  |  253/10104\n",
      "Search ID 439  |  254/10104\n",
      "Search ID 441  |  255/10104\n",
      "Search ID 442  |  256/10104\n",
      "Search ID 444  |  257/10104\n",
      "Search ID 447  |  258/10104\n",
      "Search ID 452  |  259/10104\n",
      "Search ID 453  |  260/10104\n",
      "Search ID 455  |  261/10104\n",
      "Search ID 458  |  262/10104\n",
      "Search ID 460  |  263/10104\n",
      "Search ID 461  |  264/10104\n",
      "Search ID 462  |  265/10104\n",
      "Search ID 466  |  266/10104\n",
      "Search ID 468  |  267/10104\n",
      "Search ID 469  |  268/10104\n",
      "Search ID 471  |  269/10104\n",
      "Search ID 472  |  270/10104\n",
      "Search ID 474  |  271/10104\n",
      "Search ID 476  |  272/10104\n",
      "Search ID 477  |  273/10104\n",
      "Search ID 478  |  274/10104\n",
      "Search ID 479  |  275/10104\n",
      "Search ID 480  |  276/10104\n",
      "Search ID 483  |  277/10104\n",
      "Search ID 484  |  278/10104\n",
      "Search ID 486  |  279/10104\n",
      "Search ID 489  |  280/10104\n",
      "Search ID 490  |  281/10104\n",
      "Search ID 491  |  282/10104\n",
      "Search ID 497  |  283/10104\n",
      "Search ID 498  |  284/10104\n",
      "Search ID 500  |  285/10104\n",
      "Search ID 501  |  286/10104\n",
      "Search ID 507  |  287/10104\n",
      "Search ID 508  |  288/10104\n",
      "Search ID 509  |  289/10104\n",
      "Search ID 511  |  290/10104\n"
     ]
    },
    {
     "ename": "KeyboardInterrupt",
     "evalue": "",
     "output_type": "error",
     "traceback": [
      "\u001b[0;31m---------------------------------------------------------------------------\u001b[0m",
      "\u001b[0;31mKeyboardInterrupt\u001b[0m                         Traceback (most recent call last)",
      "\u001b[0;32m<ipython-input-33-aee90e098831>\u001b[0m in \u001b[0;36m<module>\u001b[0;34m()\u001b[0m\n\u001b[1;32m     32\u001b[0m \u001b[0;31m#             # can still be nan, just use average distance to this booking...\u001b[0m\u001b[0;34m\u001b[0m\u001b[0;34m\u001b[0m\u001b[0m\n\u001b[1;32m     33\u001b[0m \u001b[0;31m#             if isnan(avg_odd):\u001b[0m\u001b[0;34m\u001b[0m\u001b[0;34m\u001b[0m\u001b[0m\n\u001b[0;32m---> 34\u001b[0;31m             \u001b[0msame_trip\u001b[0m \u001b[0;34m=\u001b[0m \u001b[0mdf\u001b[0m\u001b[0;34m.\u001b[0m\u001b[0mloc\u001b[0m\u001b[0;34m[\u001b[0m\u001b[0mdf\u001b[0m\u001b[0;34m[\u001b[0m\u001b[0;34m'srch_destination_id'\u001b[0m\u001b[0;34m]\u001b[0m \u001b[0;34m==\u001b[0m \u001b[0mdest_id\u001b[0m\u001b[0;34m]\u001b[0m\u001b[0;34m.\u001b[0m\u001b[0mcompute\u001b[0m\u001b[0;34m(\u001b[0m\u001b[0;34m)\u001b[0m\u001b[0;34m\u001b[0m\u001b[0m\n\u001b[0m\u001b[1;32m     35\u001b[0m             \u001b[0mavg_odd\u001b[0m \u001b[0;34m=\u001b[0m \u001b[0msame_trip\u001b[0m\u001b[0;34m[\u001b[0m\u001b[0;34m'orig_destination_distance'\u001b[0m\u001b[0;34m]\u001b[0m\u001b[0;34m.\u001b[0m\u001b[0mmean\u001b[0m\u001b[0;34m(\u001b[0m\u001b[0;34m)\u001b[0m\u001b[0;34m\u001b[0m\u001b[0m\n\u001b[1;32m     36\u001b[0m             \u001b[0mstd_odd\u001b[0m \u001b[0;34m=\u001b[0m \u001b[0msame_trip\u001b[0m\u001b[0;34m[\u001b[0m\u001b[0;34m'orig_destination_distance'\u001b[0m\u001b[0;34m]\u001b[0m\u001b[0;34m.\u001b[0m\u001b[0mstd\u001b[0m\u001b[0;34m(\u001b[0m\u001b[0;34m)\u001b[0m\u001b[0;34m\u001b[0m\u001b[0m\n",
      "\u001b[0;32m~/miniconda3/lib/python3.6/site-packages/dask/base.py\u001b[0m in \u001b[0;36mcompute\u001b[0;34m(self, **kwargs)\u001b[0m\n\u001b[1;32m    153\u001b[0m         \u001b[0mdask\u001b[0m\u001b[0;34m.\u001b[0m\u001b[0mbase\u001b[0m\u001b[0;34m.\u001b[0m\u001b[0mcompute\u001b[0m\u001b[0;34m\u001b[0m\u001b[0m\n\u001b[1;32m    154\u001b[0m         \"\"\"\n\u001b[0;32m--> 155\u001b[0;31m         \u001b[0;34m(\u001b[0m\u001b[0mresult\u001b[0m\u001b[0;34m,\u001b[0m\u001b[0;34m)\u001b[0m \u001b[0;34m=\u001b[0m \u001b[0mcompute\u001b[0m\u001b[0;34m(\u001b[0m\u001b[0mself\u001b[0m\u001b[0;34m,\u001b[0m \u001b[0mtraverse\u001b[0m\u001b[0;34m=\u001b[0m\u001b[0;32mFalse\u001b[0m\u001b[0;34m,\u001b[0m \u001b[0;34m**\u001b[0m\u001b[0mkwargs\u001b[0m\u001b[0;34m)\u001b[0m\u001b[0;34m\u001b[0m\u001b[0m\n\u001b[0m\u001b[1;32m    156\u001b[0m         \u001b[0;32mreturn\u001b[0m \u001b[0mresult\u001b[0m\u001b[0;34m\u001b[0m\u001b[0m\n\u001b[1;32m    157\u001b[0m \u001b[0;34m\u001b[0m\u001b[0m\n",
      "\u001b[0;32m~/miniconda3/lib/python3.6/site-packages/dask/base.py\u001b[0m in \u001b[0;36mcompute\u001b[0;34m(*args, **kwargs)\u001b[0m\n\u001b[1;32m    402\u001b[0m     postcomputes = [a.__dask_postcompute__() if is_dask_collection(a)\n\u001b[1;32m    403\u001b[0m                     else (None, a) for a in args]\n\u001b[0;32m--> 404\u001b[0;31m     \u001b[0mresults\u001b[0m \u001b[0;34m=\u001b[0m \u001b[0mget\u001b[0m\u001b[0;34m(\u001b[0m\u001b[0mdsk\u001b[0m\u001b[0;34m,\u001b[0m \u001b[0mkeys\u001b[0m\u001b[0;34m,\u001b[0m \u001b[0;34m**\u001b[0m\u001b[0mkwargs\u001b[0m\u001b[0;34m)\u001b[0m\u001b[0;34m\u001b[0m\u001b[0m\n\u001b[0m\u001b[1;32m    405\u001b[0m     \u001b[0mresults_iter\u001b[0m \u001b[0;34m=\u001b[0m \u001b[0miter\u001b[0m\u001b[0;34m(\u001b[0m\u001b[0mresults\u001b[0m\u001b[0;34m)\u001b[0m\u001b[0;34m\u001b[0m\u001b[0m\n\u001b[1;32m    406\u001b[0m     return tuple(a if f is None else f(next(results_iter), *a)\n",
      "\u001b[0;32m~/miniconda3/lib/python3.6/site-packages/dask/threaded.py\u001b[0m in \u001b[0;36mget\u001b[0;34m(dsk, result, cache, num_workers, **kwargs)\u001b[0m\n\u001b[1;32m     73\u001b[0m     results = get_async(pool.apply_async, len(pool._pool), dsk, result,\n\u001b[1;32m     74\u001b[0m                         \u001b[0mcache\u001b[0m\u001b[0;34m=\u001b[0m\u001b[0mcache\u001b[0m\u001b[0;34m,\u001b[0m \u001b[0mget_id\u001b[0m\u001b[0;34m=\u001b[0m\u001b[0m_thread_get_id\u001b[0m\u001b[0;34m,\u001b[0m\u001b[0;34m\u001b[0m\u001b[0m\n\u001b[0;32m---> 75\u001b[0;31m                         pack_exception=pack_exception, **kwargs)\n\u001b[0m\u001b[1;32m     76\u001b[0m \u001b[0;34m\u001b[0m\u001b[0m\n\u001b[1;32m     77\u001b[0m     \u001b[0;31m# Cleanup pools associated to dead threads\u001b[0m\u001b[0;34m\u001b[0m\u001b[0;34m\u001b[0m\u001b[0m\n",
      "\u001b[0;32m~/miniconda3/lib/python3.6/site-packages/dask/local.py\u001b[0m in \u001b[0;36mget_async\u001b[0;34m(apply_async, num_workers, dsk, result, cache, get_id, rerun_exceptions_locally, pack_exception, raise_exception, callbacks, dumps, loads, **kwargs)\u001b[0m\n\u001b[1;32m    510\u001b[0m             \u001b[0;31m# Main loop, wait on tasks to finish, insert new ones\u001b[0m\u001b[0;34m\u001b[0m\u001b[0;34m\u001b[0m\u001b[0m\n\u001b[1;32m    511\u001b[0m             \u001b[0;32mwhile\u001b[0m \u001b[0mstate\u001b[0m\u001b[0;34m[\u001b[0m\u001b[0;34m'waiting'\u001b[0m\u001b[0;34m]\u001b[0m \u001b[0;32mor\u001b[0m \u001b[0mstate\u001b[0m\u001b[0;34m[\u001b[0m\u001b[0;34m'ready'\u001b[0m\u001b[0;34m]\u001b[0m \u001b[0;32mor\u001b[0m \u001b[0mstate\u001b[0m\u001b[0;34m[\u001b[0m\u001b[0;34m'running'\u001b[0m\u001b[0;34m]\u001b[0m\u001b[0;34m:\u001b[0m\u001b[0;34m\u001b[0m\u001b[0m\n\u001b[0;32m--> 512\u001b[0;31m                 \u001b[0mkey\u001b[0m\u001b[0;34m,\u001b[0m \u001b[0mres_info\u001b[0m\u001b[0;34m,\u001b[0m \u001b[0mfailed\u001b[0m \u001b[0;34m=\u001b[0m \u001b[0mqueue_get\u001b[0m\u001b[0;34m(\u001b[0m\u001b[0mqueue\u001b[0m\u001b[0;34m)\u001b[0m\u001b[0;34m\u001b[0m\u001b[0m\n\u001b[0m\u001b[1;32m    513\u001b[0m                 \u001b[0;32mif\u001b[0m \u001b[0mfailed\u001b[0m\u001b[0;34m:\u001b[0m\u001b[0;34m\u001b[0m\u001b[0m\n\u001b[1;32m    514\u001b[0m                     \u001b[0mexc\u001b[0m\u001b[0;34m,\u001b[0m \u001b[0mtb\u001b[0m \u001b[0;34m=\u001b[0m \u001b[0mloads\u001b[0m\u001b[0;34m(\u001b[0m\u001b[0mres_info\u001b[0m\u001b[0;34m)\u001b[0m\u001b[0;34m\u001b[0m\u001b[0m\n",
      "\u001b[0;32m~/miniconda3/lib/python3.6/site-packages/dask/local.py\u001b[0m in \u001b[0;36mqueue_get\u001b[0;34m(q)\u001b[0m\n\u001b[1;32m    149\u001b[0m \u001b[0;32melse\u001b[0m\u001b[0;34m:\u001b[0m\u001b[0;34m\u001b[0m\u001b[0m\n\u001b[1;32m    150\u001b[0m     \u001b[0;32mdef\u001b[0m \u001b[0mqueue_get\u001b[0m\u001b[0;34m(\u001b[0m\u001b[0mq\u001b[0m\u001b[0;34m)\u001b[0m\u001b[0;34m:\u001b[0m\u001b[0;34m\u001b[0m\u001b[0m\n\u001b[0;32m--> 151\u001b[0;31m         \u001b[0;32mreturn\u001b[0m \u001b[0mq\u001b[0m\u001b[0;34m.\u001b[0m\u001b[0mget\u001b[0m\u001b[0;34m(\u001b[0m\u001b[0;34m)\u001b[0m\u001b[0;34m\u001b[0m\u001b[0m\n\u001b[0m\u001b[1;32m    152\u001b[0m \u001b[0;34m\u001b[0m\u001b[0m\n\u001b[1;32m    153\u001b[0m \u001b[0;34m\u001b[0m\u001b[0m\n",
      "\u001b[0;32m~/miniconda3/lib/python3.6/queue.py\u001b[0m in \u001b[0;36mget\u001b[0;34m(self, block, timeout)\u001b[0m\n\u001b[1;32m    162\u001b[0m             \u001b[0;32melif\u001b[0m \u001b[0mtimeout\u001b[0m \u001b[0;32mis\u001b[0m \u001b[0;32mNone\u001b[0m\u001b[0;34m:\u001b[0m\u001b[0;34m\u001b[0m\u001b[0m\n\u001b[1;32m    163\u001b[0m                 \u001b[0;32mwhile\u001b[0m \u001b[0;32mnot\u001b[0m \u001b[0mself\u001b[0m\u001b[0;34m.\u001b[0m\u001b[0m_qsize\u001b[0m\u001b[0;34m(\u001b[0m\u001b[0;34m)\u001b[0m\u001b[0;34m:\u001b[0m\u001b[0;34m\u001b[0m\u001b[0m\n\u001b[0;32m--> 164\u001b[0;31m                     \u001b[0mself\u001b[0m\u001b[0;34m.\u001b[0m\u001b[0mnot_empty\u001b[0m\u001b[0;34m.\u001b[0m\u001b[0mwait\u001b[0m\u001b[0;34m(\u001b[0m\u001b[0;34m)\u001b[0m\u001b[0;34m\u001b[0m\u001b[0m\n\u001b[0m\u001b[1;32m    165\u001b[0m             \u001b[0;32melif\u001b[0m \u001b[0mtimeout\u001b[0m \u001b[0;34m<\u001b[0m \u001b[0;36m0\u001b[0m\u001b[0;34m:\u001b[0m\u001b[0;34m\u001b[0m\u001b[0m\n\u001b[1;32m    166\u001b[0m                 \u001b[0;32mraise\u001b[0m \u001b[0mValueError\u001b[0m\u001b[0;34m(\u001b[0m\u001b[0;34m\"'timeout' must be a non-negative number\"\u001b[0m\u001b[0;34m)\u001b[0m\u001b[0;34m\u001b[0m\u001b[0m\n",
      "\u001b[0;32m~/miniconda3/lib/python3.6/threading.py\u001b[0m in \u001b[0;36mwait\u001b[0;34m(self, timeout)\u001b[0m\n\u001b[1;32m    293\u001b[0m         \u001b[0;32mtry\u001b[0m\u001b[0;34m:\u001b[0m    \u001b[0;31m# restore state no matter what (e.g., KeyboardInterrupt)\u001b[0m\u001b[0;34m\u001b[0m\u001b[0m\n\u001b[1;32m    294\u001b[0m             \u001b[0;32mif\u001b[0m \u001b[0mtimeout\u001b[0m \u001b[0;32mis\u001b[0m \u001b[0;32mNone\u001b[0m\u001b[0;34m:\u001b[0m\u001b[0;34m\u001b[0m\u001b[0m\n\u001b[0;32m--> 295\u001b[0;31m                 \u001b[0mwaiter\u001b[0m\u001b[0;34m.\u001b[0m\u001b[0macquire\u001b[0m\u001b[0;34m(\u001b[0m\u001b[0;34m)\u001b[0m\u001b[0;34m\u001b[0m\u001b[0m\n\u001b[0m\u001b[1;32m    296\u001b[0m                 \u001b[0mgotit\u001b[0m \u001b[0;34m=\u001b[0m \u001b[0;32mTrue\u001b[0m\u001b[0;34m\u001b[0m\u001b[0m\n\u001b[1;32m    297\u001b[0m             \u001b[0;32melse\u001b[0m\u001b[0;34m:\u001b[0m\u001b[0;34m\u001b[0m\u001b[0m\n",
      "\u001b[0;31mKeyboardInterrupt\u001b[0m: "
     ]
    }
   ],
   "source": [
    "# clean up orig_destination_distance attribute\n",
    "\n",
    "for i in range(0, 1):\n",
    "    # load data set\n",
    "    data = pd.read_csv('../../ExpediaData/train_split_cleaned2/train_data_{:02d}.csv'.format(i))\n",
    "    data.drop(columns=['Unnamed: 0'], inplace=True)\n",
    "    \n",
    "    data['avg_orig_dest_dist'] = 0\n",
    "    data['std_orig_dest_dist'] = 0\n",
    "    \n",
    "\n",
    "    s_ids = data['srch_id'].unique()\n",
    "    for j, s_id in enumerate(s_ids):\n",
    "        print('Search ID {}  |  {}/{}'.format(s_id, j, len(s_ids)))\n",
    "        # get block of each search\n",
    "        search = data.loc[data['srch_id'] == s_id]\n",
    "        s_idx = search.index\n",
    "\n",
    "        # fill in missing values for orig_destination_distance\n",
    "        num_nulls = search['orig_destination_distance'].isnull().values.sum()\n",
    "        if num_nulls == len(search):\n",
    "            # look for similar trips\n",
    "            origin = search['visitor_location_country_id'].iloc[0]\n",
    "            dest_id = search['srch_destination_id'].iloc[0]\n",
    "            prop_country = search['prop_country_id'].iloc[0]\n",
    "            \n",
    "            same_trip = df.loc[ (df['visitor_location_country_id'] == origin) & \n",
    "                    ((df['srch_destination_id'] == dest_id) | (df['prop_country_id'])) == prop_country].compute()\n",
    "            \n",
    "            avg_odd = same_trip['orig_destination_distance'].mean()\n",
    "            \n",
    "            # can still be nan, just use average distance to this booking...\n",
    "            if isnan(avg_odd):\n",
    "                same_trip = df.loc[df['srch_destination_id'] == dest_id].compute()\n",
    "                avg_odd = same_trip['orig_destination_distance'].mean()\n",
    "                std_odd = same_trip['orig_destination_distance'].std()\n",
    "            else:\n",
    "                std_odd = same_trip['orig_destination_distance'].std()\n",
    "\n",
    "        \n",
    "        else:\n",
    "            avg_odd = search['orig_destination_distance'].mean()\n",
    "            std_odd = search['orig_destination_distance'].std()\n",
    "            \n",
    "        data.loc[s_idx, 'avg_orig_dest_dist'] = avg_odd\n",
    "        data.loc[s_idx, 'std_orig_dest_dist'] = std_odd\n",
    "    \n",
    "\n",
    "    data.drop(columns=['orig_destination_distance'], inplace=True)\n",
    "    \n",
    "    # save cleaned csv\n",
    "    data.to_csv('../../ExpediaData/train_split_cleaned3/train_data_{:02d}.csv'.format(i))\n"
   ]
  },
  {
   "cell_type": "code",
   "execution_count": null,
   "metadata": {},
   "outputs": [],
   "source": []
  },
  {
   "cell_type": "code",
   "execution_count": null,
   "metadata": {},
   "outputs": [],
   "source": []
  },
  {
   "cell_type": "code",
   "execution_count": null,
   "metadata": {},
   "outputs": [],
   "source": []
  },
  {
   "cell_type": "code",
   "execution_count": null,
   "metadata": {},
   "outputs": [],
   "source": []
  },
  {
   "cell_type": "code",
   "execution_count": 24,
   "metadata": {},
   "outputs": [],
   "source": [
    "data = pd.read_csv('../../ExpediaData/train_split_cleaned2/train_data_00.csv')"
   ]
  },
  {
   "cell_type": "code",
   "execution_count": null,
   "metadata": {},
   "outputs": [],
   "source": []
  },
  {
   "cell_type": "code",
   "execution_count": 25,
   "metadata": {
    "scrolled": true
   },
   "outputs": [],
   "source": [
    "search = data.loc[data['srch_id'] == 21]"
   ]
  },
  {
   "cell_type": "code",
   "execution_count": 28,
   "metadata": {
    "scrolled": true
   },
   "outputs": [
    {
     "data": {
      "text/plain": [
       "55"
      ]
     },
     "execution_count": 28,
     "metadata": {},
     "output_type": "execute_result"
    }
   ],
   "source": [
    "search['visitor_location_country_id'].iloc[0]"
   ]
  },
  {
   "cell_type": "code",
   "execution_count": 30,
   "metadata": {},
   "outputs": [
    {
     "data": {
      "text/plain": [
       "216"
      ]
     },
     "execution_count": 30,
     "metadata": {},
     "output_type": "execute_result"
    }
   ],
   "source": [
    "search['prop_country_id'].iloc[0]"
   ]
  },
  {
   "cell_type": "code",
   "execution_count": 31,
   "metadata": {},
   "outputs": [
    {
     "data": {
      "text/plain": [
       "18161"
      ]
     },
     "execution_count": 31,
     "metadata": {},
     "output_type": "execute_result"
    }
   ],
   "source": [
    "search['srch_destination_id'].iloc[0]"
   ]
  },
  {
   "cell_type": "code",
   "execution_count": 20,
   "metadata": {},
   "outputs": [],
   "source": [
    "same_trip = df.loc[ (df['visitor_location_country_id'] == 187) & \n",
    "                    ((df['srch_destination_id'] == 23246) | (df['prop_country_id'])) == 219].compute()"
   ]
  },
  {
   "cell_type": "code",
   "execution_count": 18,
   "metadata": {},
   "outputs": [],
   "source": [
    "same_trip = df.loc[df['srch_destination_id'] == 23246].compute()"
   ]
  },
  {
   "cell_type": "code",
   "execution_count": 21,
   "metadata": {},
   "outputs": [
    {
     "data": {
      "text/plain": [
       "nan"
      ]
     },
     "execution_count": 21,
     "metadata": {},
     "output_type": "execute_result"
    }
   ],
   "source": [
    "same_trip['orig_destination_distance'].mean()"
   ]
  },
  {
   "cell_type": "code",
   "execution_count": 34,
   "metadata": {},
   "outputs": [],
   "source": [
    "test_set = dd.read_csv('../../ExpediaData/test_set_VU_DM_2014.csv')"
   ]
  },
  {
   "cell_type": "code",
   "execution_count": 36,
   "metadata": {},
   "outputs": [
    {
     "data": {
      "text/html": [
       "<div>\n",
       "<style scoped>\n",
       "    .dataframe tbody tr th:only-of-type {\n",
       "        vertical-align: middle;\n",
       "    }\n",
       "\n",
       "    .dataframe tbody tr th {\n",
       "        vertical-align: top;\n",
       "    }\n",
       "\n",
       "    .dataframe thead th {\n",
       "        text-align: right;\n",
       "    }\n",
       "</style>\n",
       "<table border=\"1\" class=\"dataframe\">\n",
       "  <thead>\n",
       "    <tr style=\"text-align: right;\">\n",
       "      <th></th>\n",
       "      <th>srch_id</th>\n",
       "      <th>date_time</th>\n",
       "      <th>site_id</th>\n",
       "      <th>visitor_location_country_id</th>\n",
       "      <th>visitor_hist_starrating</th>\n",
       "      <th>visitor_hist_adr_usd</th>\n",
       "      <th>prop_country_id</th>\n",
       "      <th>prop_id</th>\n",
       "      <th>prop_starrating</th>\n",
       "      <th>prop_review_score</th>\n",
       "      <th>...</th>\n",
       "      <th>comp6_rate_percent_diff</th>\n",
       "      <th>comp7_rate</th>\n",
       "      <th>comp7_inv</th>\n",
       "      <th>comp7_rate_percent_diff</th>\n",
       "      <th>comp8_rate</th>\n",
       "      <th>comp8_inv</th>\n",
       "      <th>comp8_rate_percent_diff</th>\n",
       "      <th>click_bool</th>\n",
       "      <th>gross_bookings_usd</th>\n",
       "      <th>booking_bool</th>\n",
       "    </tr>\n",
       "  </thead>\n",
       "  <tbody>\n",
       "    <tr>\n",
       "      <th>0</th>\n",
       "      <td>1</td>\n",
       "      <td>2013-04-04 08:32:15</td>\n",
       "      <td>12</td>\n",
       "      <td>187</td>\n",
       "      <td>NaN</td>\n",
       "      <td>NaN</td>\n",
       "      <td>219</td>\n",
       "      <td>893</td>\n",
       "      <td>3</td>\n",
       "      <td>3.5</td>\n",
       "      <td>...</td>\n",
       "      <td>NaN</td>\n",
       "      <td>NaN</td>\n",
       "      <td>NaN</td>\n",
       "      <td>NaN</td>\n",
       "      <td>0.0</td>\n",
       "      <td>0.0</td>\n",
       "      <td>NaN</td>\n",
       "      <td>0</td>\n",
       "      <td>NaN</td>\n",
       "      <td>0</td>\n",
       "    </tr>\n",
       "    <tr>\n",
       "      <th>1</th>\n",
       "      <td>1</td>\n",
       "      <td>2013-04-04 08:32:15</td>\n",
       "      <td>12</td>\n",
       "      <td>187</td>\n",
       "      <td>NaN</td>\n",
       "      <td>NaN</td>\n",
       "      <td>219</td>\n",
       "      <td>10404</td>\n",
       "      <td>4</td>\n",
       "      <td>4.0</td>\n",
       "      <td>...</td>\n",
       "      <td>NaN</td>\n",
       "      <td>NaN</td>\n",
       "      <td>NaN</td>\n",
       "      <td>NaN</td>\n",
       "      <td>0.0</td>\n",
       "      <td>0.0</td>\n",
       "      <td>NaN</td>\n",
       "      <td>0</td>\n",
       "      <td>NaN</td>\n",
       "      <td>0</td>\n",
       "    </tr>\n",
       "    <tr>\n",
       "      <th>2</th>\n",
       "      <td>1</td>\n",
       "      <td>2013-04-04 08:32:15</td>\n",
       "      <td>12</td>\n",
       "      <td>187</td>\n",
       "      <td>NaN</td>\n",
       "      <td>NaN</td>\n",
       "      <td>219</td>\n",
       "      <td>21315</td>\n",
       "      <td>3</td>\n",
       "      <td>4.5</td>\n",
       "      <td>...</td>\n",
       "      <td>NaN</td>\n",
       "      <td>NaN</td>\n",
       "      <td>NaN</td>\n",
       "      <td>NaN</td>\n",
       "      <td>0.0</td>\n",
       "      <td>0.0</td>\n",
       "      <td>NaN</td>\n",
       "      <td>0</td>\n",
       "      <td>NaN</td>\n",
       "      <td>0</td>\n",
       "    </tr>\n",
       "    <tr>\n",
       "      <th>3</th>\n",
       "      <td>1</td>\n",
       "      <td>2013-04-04 08:32:15</td>\n",
       "      <td>12</td>\n",
       "      <td>187</td>\n",
       "      <td>NaN</td>\n",
       "      <td>NaN</td>\n",
       "      <td>219</td>\n",
       "      <td>27348</td>\n",
       "      <td>2</td>\n",
       "      <td>4.0</td>\n",
       "      <td>...</td>\n",
       "      <td>NaN</td>\n",
       "      <td>NaN</td>\n",
       "      <td>NaN</td>\n",
       "      <td>NaN</td>\n",
       "      <td>-1.0</td>\n",
       "      <td>0.0</td>\n",
       "      <td>5.0</td>\n",
       "      <td>0</td>\n",
       "      <td>NaN</td>\n",
       "      <td>0</td>\n",
       "    </tr>\n",
       "    <tr>\n",
       "      <th>4</th>\n",
       "      <td>1</td>\n",
       "      <td>2013-04-04 08:32:15</td>\n",
       "      <td>12</td>\n",
       "      <td>187</td>\n",
       "      <td>NaN</td>\n",
       "      <td>NaN</td>\n",
       "      <td>219</td>\n",
       "      <td>29604</td>\n",
       "      <td>4</td>\n",
       "      <td>3.5</td>\n",
       "      <td>...</td>\n",
       "      <td>NaN</td>\n",
       "      <td>NaN</td>\n",
       "      <td>NaN</td>\n",
       "      <td>NaN</td>\n",
       "      <td>0.0</td>\n",
       "      <td>0.0</td>\n",
       "      <td>NaN</td>\n",
       "      <td>0</td>\n",
       "      <td>NaN</td>\n",
       "      <td>0</td>\n",
       "    </tr>\n",
       "  </tbody>\n",
       "</table>\n",
       "<p>5 rows × 54 columns</p>\n",
       "</div>"
      ],
      "text/plain": [
       "   srch_id            date_time  site_id  visitor_location_country_id  \\\n",
       "0        1  2013-04-04 08:32:15       12                          187   \n",
       "1        1  2013-04-04 08:32:15       12                          187   \n",
       "2        1  2013-04-04 08:32:15       12                          187   \n",
       "3        1  2013-04-04 08:32:15       12                          187   \n",
       "4        1  2013-04-04 08:32:15       12                          187   \n",
       "\n",
       "   visitor_hist_starrating  visitor_hist_adr_usd  prop_country_id  prop_id  \\\n",
       "0                      NaN                   NaN              219      893   \n",
       "1                      NaN                   NaN              219    10404   \n",
       "2                      NaN                   NaN              219    21315   \n",
       "3                      NaN                   NaN              219    27348   \n",
       "4                      NaN                   NaN              219    29604   \n",
       "\n",
       "   prop_starrating  prop_review_score      ...       comp6_rate_percent_diff  \\\n",
       "0                3                3.5      ...                           NaN   \n",
       "1                4                4.0      ...                           NaN   \n",
       "2                3                4.5      ...                           NaN   \n",
       "3                2                4.0      ...                           NaN   \n",
       "4                4                3.5      ...                           NaN   \n",
       "\n",
       "   comp7_rate  comp7_inv  comp7_rate_percent_diff  comp8_rate  comp8_inv  \\\n",
       "0         NaN        NaN                      NaN         0.0        0.0   \n",
       "1         NaN        NaN                      NaN         0.0        0.0   \n",
       "2         NaN        NaN                      NaN         0.0        0.0   \n",
       "3         NaN        NaN                      NaN        -1.0        0.0   \n",
       "4         NaN        NaN                      NaN         0.0        0.0   \n",
       "\n",
       "   comp8_rate_percent_diff  click_bool  gross_bookings_usd  booking_bool  \n",
       "0                      NaN           0                 NaN             0  \n",
       "1                      NaN           0                 NaN             0  \n",
       "2                      NaN           0                 NaN             0  \n",
       "3                      5.0           0                 NaN             0  \n",
       "4                      NaN           0                 NaN             0  \n",
       "\n",
       "[5 rows x 54 columns]"
      ]
     },
     "execution_count": 36,
     "metadata": {},
     "output_type": "execute_result"
    }
   ],
   "source": [
    "df.head()"
   ]
  },
  {
   "cell_type": "code",
   "execution_count": null,
   "metadata": {},
   "outputs": [],
   "source": []
  }
 ],
 "metadata": {
  "kernelspec": {
   "display_name": "Python 3",
   "language": "python",
   "name": "python3"
  },
  "language_info": {
   "codemirror_mode": {
    "name": "ipython",
    "version": 3
   },
   "file_extension": ".py",
   "mimetype": "text/x-python",
   "name": "python",
   "nbconvert_exporter": "python",
   "pygments_lexer": "ipython3",
   "version": "3.6.5"
  }
 },
 "nbformat": 4,
 "nbformat_minor": 2
}
